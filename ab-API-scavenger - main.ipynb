{
 "cells": [
  {
   "cell_type": "code",
   "execution_count": 3,
   "metadata": {
    "ExecuteTime": {
     "end_time": "2020-02-08T17:50:57.666079Z",
     "start_time": "2020-02-08T17:50:57.661253Z"
    }
   },
   "outputs": [],
   "source": [
    "import json\n",
    "import requests\n",
    "import pandas as pd\n",
    "\n",
    "from pandas.io.json import json_normalize"
   ]
  },
  {
   "cell_type": "markdown",
   "metadata": {
    "ExecuteTime": {
     "end_time": "2020-02-08T17:50:41.842726Z",
     "start_time": "2020-02-08T17:50:41.821775Z"
    }
   },
   "source": [
    "### Challenge 1: \n",
    "\n",
    "Fork Languages\n",
    "You will find out how many programming languages are used among all the forks created from the main lab repo of your bootcamp. Assuming the main lab repo is ironhack-datalabs/madrid-oct-2018, you will:\n",
    "\n",
    "Obtain the full list of forks created from the main lab repo via Github API.\n",
    "\n",
    "Loop the JSON response to find out the language attribute of each fork. Use an array to store the language attributes of each fork.\n",
    "\n",
    "Hint: Each language should appear only once in your array.\n",
    "Print the language array. It should be something like:\n",
    "\n",
    "[\"Python\", \"Jupyter Notebook\", \"HTML\"]\n",
    "\n",
    "Again, the documentation of Github API is here."
   ]
  },
  {
   "cell_type": "code",
   "execution_count": 26,
   "metadata": {
    "ExecuteTime": {
     "end_time": "2020-02-08T18:04:45.977663Z",
     "start_time": "2020-02-08T18:04:45.426216Z"
    }
   },
   "outputs": [],
   "source": [
    "url = 'https://api.github.com/repos/ironhack-datalabs/mad-oct-2018/forks'\n",
    "response = requests.get(url)\n",
    "result = response.json()\n",
    "#result[0]['language']\n",
    "x=[i['language'] for i in result ]\n"
   ]
  },
  {
   "cell_type": "code",
   "execution_count": 27,
   "metadata": {
    "ExecuteTime": {
     "end_time": "2020-02-08T18:04:46.951001Z",
     "start_time": "2020-02-08T18:04:46.940264Z"
    }
   },
   "outputs": [
    {
     "data": {
      "text/plain": [
       "[None, 'Python', 'Jupyter Notebook', 'HTML']"
      ]
     },
     "execution_count": 27,
     "metadata": {},
     "output_type": "execute_result"
    }
   ],
   "source": [
    "languages=list(set(x))\n",
    "languages"
   ]
  },
  {
   "cell_type": "code",
   "execution_count": 28,
   "metadata": {
    "ExecuteTime": {
     "end_time": "2020-02-08T18:04:47.747452Z",
     "start_time": "2020-02-08T18:04:47.737361Z"
    }
   },
   "outputs": [
    {
     "data": {
      "text/plain": [
       "['Python', 'Jupyter Notebook', 'HTML']"
      ]
     },
     "execution_count": 28,
     "metadata": {},
     "output_type": "execute_result"
    }
   ],
   "source": [
    "languages.remove(None)\n",
    "languages"
   ]
  },
  {
   "cell_type": "markdown",
   "metadata": {},
   "source": [
    "### Challenge 2: \n",
    "Count Commits\n",
    "\n",
    "Count how many commits were made in the past week.\n",
    "\n",
    "Obtain all the commits made in the past week via API, which is a JSON array that contains multiple commit objects.\n",
    "\n",
    "Count how many commit objects are contained in the array."
   ]
  },
  {
   "cell_type": "code",
   "execution_count": 64,
   "metadata": {
    "ExecuteTime": {
     "end_time": "2020-02-08T18:22:11.299342Z",
     "start_time": "2020-02-08T18:22:11.294024Z"
    }
   },
   "outputs": [],
   "source": [
    "#En la ultima semana no hay ningun commit, he sacado desde el 1 de enero de 2019\n",
    "url = 'https://api.github.com/repos/ironhack-datalabs/mad-oct-2018/commits?since=2019-01-01T10:00:00Z'\n"
   ]
  },
  {
   "cell_type": "code",
   "execution_count": 65,
   "metadata": {
    "ExecuteTime": {
     "end_time": "2020-02-08T18:22:12.481984Z",
     "start_time": "2020-02-08T18:22:12.019698Z"
    }
   },
   "outputs": [
    {
     "data": {
      "text/plain": [
       "<Response [200]>"
      ]
     },
     "execution_count": 65,
     "metadata": {},
     "output_type": "execute_result"
    }
   ],
   "source": [
    "response = requests.get(url)\n",
    "response"
   ]
  },
  {
   "cell_type": "code",
   "execution_count": 68,
   "metadata": {
    "ExecuteTime": {
     "end_time": "2020-02-08T18:22:24.429030Z",
     "start_time": "2020-02-08T18:22:24.357531Z"
    }
   },
   "outputs": [
    {
     "data": {
      "text/html": [
       "<div>\n",
       "<style scoped>\n",
       "    .dataframe tbody tr th:only-of-type {\n",
       "        vertical-align: middle;\n",
       "    }\n",
       "\n",
       "    .dataframe tbody tr th {\n",
       "        vertical-align: top;\n",
       "    }\n",
       "\n",
       "    .dataframe thead th {\n",
       "        text-align: right;\n",
       "    }\n",
       "</style>\n",
       "<table border=\"1\" class=\"dataframe\">\n",
       "  <thead>\n",
       "    <tr style=\"text-align: right;\">\n",
       "      <th></th>\n",
       "      <th>sha</th>\n",
       "      <th>node_id</th>\n",
       "      <th>url</th>\n",
       "      <th>html_url</th>\n",
       "      <th>comments_url</th>\n",
       "      <th>parents</th>\n",
       "      <th>commit.author.name</th>\n",
       "      <th>commit.author.email</th>\n",
       "      <th>commit.author.date</th>\n",
       "      <th>commit.committer.name</th>\n",
       "      <th>...</th>\n",
       "      <th>committer.following_url</th>\n",
       "      <th>committer.gists_url</th>\n",
       "      <th>committer.starred_url</th>\n",
       "      <th>committer.subscriptions_url</th>\n",
       "      <th>committer.organizations_url</th>\n",
       "      <th>committer.repos_url</th>\n",
       "      <th>committer.events_url</th>\n",
       "      <th>committer.received_events_url</th>\n",
       "      <th>committer.type</th>\n",
       "      <th>committer.site_admin</th>\n",
       "    </tr>\n",
       "  </thead>\n",
       "  <tbody>\n",
       "    <tr>\n",
       "      <th>0</th>\n",
       "      <td>1638e5506e6947b77bfe78761d345476ae80d017</td>\n",
       "      <td>MDY6Q29tbWl0MTUzNzIwODA0OjE2MzhlNTUwNmU2OTQ3Yj...</td>\n",
       "      <td>https://api.github.com/repos/ironhack-datalabs...</td>\n",
       "      <td>https://github.com/ironhack-datalabs/mad-oct-2...</td>\n",
       "      <td>https://api.github.com/repos/ironhack-datalabs...</td>\n",
       "      <td>[{'sha': 'f332b5e6fcea965dc80f62220d7ee1457b04...</td>\n",
       "      <td>Marc Pomar</td>\n",
       "      <td>marc@faable.com</td>\n",
       "      <td>2019-08-19T11:11:36Z</td>\n",
       "      <td>Marc Pomar</td>\n",
       "      <td>...</td>\n",
       "      <td>https://api.github.com/users/boyander/followin...</td>\n",
       "      <td>https://api.github.com/users/boyander/gists{/g...</td>\n",
       "      <td>https://api.github.com/users/boyander/starred{...</td>\n",
       "      <td>https://api.github.com/users/boyander/subscrip...</td>\n",
       "      <td>https://api.github.com/users/boyander/orgs</td>\n",
       "      <td>https://api.github.com/users/boyander/repos</td>\n",
       "      <td>https://api.github.com/users/boyander/events{/...</td>\n",
       "      <td>https://api.github.com/users/boyander/received...</td>\n",
       "      <td>User</td>\n",
       "      <td>False</td>\n",
       "    </tr>\n",
       "    <tr>\n",
       "      <th>1</th>\n",
       "      <td>f332b5e6fcea965dc80f62220d7ee1457b04b90d</td>\n",
       "      <td>MDY6Q29tbWl0MTUzNzIwODA0OmYzMzJiNWU2ZmNlYTk2NW...</td>\n",
       "      <td>https://api.github.com/repos/ironhack-datalabs...</td>\n",
       "      <td>https://github.com/ironhack-datalabs/mad-oct-2...</td>\n",
       "      <td>https://api.github.com/repos/ironhack-datalabs...</td>\n",
       "      <td>[{'sha': '4c048c3efc18cf9d50e34c76919c8049ee7f...</td>\n",
       "      <td>ta-data-bcn</td>\n",
       "      <td>47005065+ta-data-bcn@users.noreply.github.com</td>\n",
       "      <td>2019-03-07T15:49:16Z</td>\n",
       "      <td>GitHub</td>\n",
       "      <td>...</td>\n",
       "      <td>https://api.github.com/users/web-flow/followin...</td>\n",
       "      <td>https://api.github.com/users/web-flow/gists{/g...</td>\n",
       "      <td>https://api.github.com/users/web-flow/starred{...</td>\n",
       "      <td>https://api.github.com/users/web-flow/subscrip...</td>\n",
       "      <td>https://api.github.com/users/web-flow/orgs</td>\n",
       "      <td>https://api.github.com/users/web-flow/repos</td>\n",
       "      <td>https://api.github.com/users/web-flow/events{/...</td>\n",
       "      <td>https://api.github.com/users/web-flow/received...</td>\n",
       "      <td>User</td>\n",
       "      <td>False</td>\n",
       "    </tr>\n",
       "  </tbody>\n",
       "</table>\n",
       "<p>2 rows × 57 columns</p>\n",
       "</div>"
      ],
      "text/plain": [
       "                                        sha  \\\n",
       "0  1638e5506e6947b77bfe78761d345476ae80d017   \n",
       "1  f332b5e6fcea965dc80f62220d7ee1457b04b90d   \n",
       "\n",
       "                                             node_id  \\\n",
       "0  MDY6Q29tbWl0MTUzNzIwODA0OjE2MzhlNTUwNmU2OTQ3Yj...   \n",
       "1  MDY6Q29tbWl0MTUzNzIwODA0OmYzMzJiNWU2ZmNlYTk2NW...   \n",
       "\n",
       "                                                 url  \\\n",
       "0  https://api.github.com/repos/ironhack-datalabs...   \n",
       "1  https://api.github.com/repos/ironhack-datalabs...   \n",
       "\n",
       "                                            html_url  \\\n",
       "0  https://github.com/ironhack-datalabs/mad-oct-2...   \n",
       "1  https://github.com/ironhack-datalabs/mad-oct-2...   \n",
       "\n",
       "                                        comments_url  \\\n",
       "0  https://api.github.com/repos/ironhack-datalabs...   \n",
       "1  https://api.github.com/repos/ironhack-datalabs...   \n",
       "\n",
       "                                             parents commit.author.name  \\\n",
       "0  [{'sha': 'f332b5e6fcea965dc80f62220d7ee1457b04...         Marc Pomar   \n",
       "1  [{'sha': '4c048c3efc18cf9d50e34c76919c8049ee7f...        ta-data-bcn   \n",
       "\n",
       "                             commit.author.email    commit.author.date  \\\n",
       "0                                marc@faable.com  2019-08-19T11:11:36Z   \n",
       "1  47005065+ta-data-bcn@users.noreply.github.com  2019-03-07T15:49:16Z   \n",
       "\n",
       "  commit.committer.name  ...  \\\n",
       "0            Marc Pomar  ...   \n",
       "1                GitHub  ...   \n",
       "\n",
       "                             committer.following_url  \\\n",
       "0  https://api.github.com/users/boyander/followin...   \n",
       "1  https://api.github.com/users/web-flow/followin...   \n",
       "\n",
       "                                 committer.gists_url  \\\n",
       "0  https://api.github.com/users/boyander/gists{/g...   \n",
       "1  https://api.github.com/users/web-flow/gists{/g...   \n",
       "\n",
       "                               committer.starred_url  \\\n",
       "0  https://api.github.com/users/boyander/starred{...   \n",
       "1  https://api.github.com/users/web-flow/starred{...   \n",
       "\n",
       "                         committer.subscriptions_url  \\\n",
       "0  https://api.github.com/users/boyander/subscrip...   \n",
       "1  https://api.github.com/users/web-flow/subscrip...   \n",
       "\n",
       "                  committer.organizations_url  \\\n",
       "0  https://api.github.com/users/boyander/orgs   \n",
       "1  https://api.github.com/users/web-flow/orgs   \n",
       "\n",
       "                           committer.repos_url  \\\n",
       "0  https://api.github.com/users/boyander/repos   \n",
       "1  https://api.github.com/users/web-flow/repos   \n",
       "\n",
       "                                committer.events_url  \\\n",
       "0  https://api.github.com/users/boyander/events{/...   \n",
       "1  https://api.github.com/users/web-flow/events{/...   \n",
       "\n",
       "                       committer.received_events_url committer.type  \\\n",
       "0  https://api.github.com/users/boyander/received...           User   \n",
       "1  https://api.github.com/users/web-flow/received...           User   \n",
       "\n",
       "  committer.site_admin  \n",
       "0                False  \n",
       "1                False  \n",
       "\n",
       "[2 rows x 57 columns]"
      ]
     },
     "execution_count": 68,
     "metadata": {},
     "output_type": "execute_result"
    }
   ],
   "source": [
    "df = response.json()\n",
    "df = json_normalize(df)\n",
    "df.head(2)"
   ]
  },
  {
   "cell_type": "code",
   "execution_count": 71,
   "metadata": {
    "ExecuteTime": {
     "end_time": "2020-02-08T18:24:32.991521Z",
     "start_time": "2020-02-08T18:24:32.981753Z"
    }
   },
   "outputs": [
    {
     "data": {
      "text/plain": [
       "30"
      ]
     },
     "execution_count": 71,
     "metadata": {},
     "output_type": "execute_result"
    }
   ],
   "source": [
    "num_commit=df['sha'].count()\n",
    "num_commit"
   ]
  },
  {
   "cell_type": "code",
   "execution_count": 76,
   "metadata": {
    "ExecuteTime": {
     "end_time": "2020-02-08T18:25:41.897639Z",
     "start_time": "2020-02-08T18:25:41.888962Z"
    }
   },
   "outputs": [
    {
     "data": {
      "text/plain": [
       "57"
      ]
     },
     "execution_count": 76,
     "metadata": {},
     "output_type": "execute_result"
    }
   ],
   "source": [
    "num_obj=len(df.columns)\n",
    "num_obj"
   ]
  },
  {
   "cell_type": "markdown",
   "metadata": {},
   "source": [
    "### Challenge 3: Hidden Cold Joke\n",
    "Using Python, call Github API to find out the cold joke contained in the 24 secret files in the following repo:\n",
    "\n",
    "https://github.com/ironhack-datalabs/scavenger\n",
    "\n",
    "The filenames of the secret files contain .scavengerhunt and they are scattered in different directories of this repo. The secret files are named from .0001.scavengerhunt to .0024.scavengerhunt. They are scattered randomly throughout this repo. You need to search for these files by calling the Github API, not searching the local files on your computer.\n",
    "\n",
    "Notes:\n",
    "\n",
    "Github API documentation can be found here.\n",
    "\n",
    "You will need to study the Github API documentation to decide which API endpoint to call and what parameters to use in order to obtain the information you need. Unless you are already super familiar with Github API or super lucky, you probably will do some trials and errors. Therefore, be prepared to go back and forth in studying the API documentation, testing, and revising until you obtain what you need.\n",
    "\n",
    "After receiving the JSON data object, you need to inspect its structure and decide how to parse the data.\n",
    "\n",
    "When you test your requests with Github API, sometimes you may be blocked by Github with an error message that reads:\n",
    "\n",
    "You have triggered an abuse detection mechanism and have been temporarily blocked from content creation. Please retry your request again later.\n",
    "\n",
    "Don't worry. Check the parameters in your request and wait for a minute or two before you make additional requests.\n",
    "\n",
    "After you find out the secrete files:\n",
    "\n",
    "Sort the filenames ascendingly.\n",
    "\n",
    "Read the content of each secret files into an array of strings.\n",
    "\n",
    "Concatenate the strings in the array separating each two with a whitespace.\n",
    "\n",
    "Print out the joke."
   ]
  },
  {
   "cell_type": "code",
   "execution_count": 177,
   "metadata": {
    "ExecuteTime": {
     "end_time": "2020-02-08T19:21:38.768016Z",
     "start_time": "2020-02-08T19:21:38.760376Z"
    }
   },
   "outputs": [],
   "source": [
    "url = 'https://api.github.com/repos/ironhack-datalabs/scavenger/contents'"
   ]
  },
  {
   "cell_type": "code",
   "execution_count": 178,
   "metadata": {
    "ExecuteTime": {
     "end_time": "2020-02-08T19:21:40.311529Z",
     "start_time": "2020-02-08T19:21:39.566006Z"
    }
   },
   "outputs": [
    {
     "data": {
      "text/plain": [
       "<Response [200]>"
      ]
     },
     "execution_count": 178,
     "metadata": {},
     "output_type": "execute_result"
    }
   ],
   "source": [
    "response = requests.get(url)\n",
    "response"
   ]
  },
  {
   "cell_type": "code",
   "execution_count": 179,
   "metadata": {
    "ExecuteTime": {
     "end_time": "2020-02-08T19:21:41.344679Z",
     "start_time": "2020-02-08T19:21:41.335504Z"
    }
   },
   "outputs": [],
   "source": [
    "df = response.json()\n",
    "df = json_normalize(df)\n",
    "paths=[i for i in df['path']]"
   ]
  },
  {
   "cell_type": "code",
   "execution_count": 211,
   "metadata": {
    "ExecuteTime": {
     "end_time": "2020-02-08T19:43:36.320395Z",
     "start_time": "2020-02-08T19:43:27.799772Z"
    }
   },
   "outputs": [
    {
     "name": "stderr",
     "output_type": "stream",
     "text": [
      "/usr/local/lib/python3.7/site-packages/pandas/core/frame.py:7138: FutureWarning: Sorting because non-concatenation axis is not aligned. A future version\n",
      "of pandas will change to not sort by default.\n",
      "\n",
      "To accept the future behavior, pass 'sort=False'.\n",
      "\n",
      "To retain the current behavior and silence the warning, pass 'sort=True'.\n",
      "\n",
      "  sort=sort,\n"
     ]
    }
   ],
   "source": [
    "files=pd.DataFrame()\n",
    "for path in paths:\n",
    "    url = f'https://api.github.com/repos/ironhack-datalabs/scavenger/contents/{path}'\n",
    "    df = requests.get(url).json()\n",
    "    df = json_normalize(df)\n",
    "    files=files.append(df)\n",
    "    "
   ]
  },
  {
   "cell_type": "code",
   "execution_count": 214,
   "metadata": {
    "ExecuteTime": {
     "end_time": "2020-02-08T19:45:30.410474Z",
     "start_time": "2020-02-08T19:45:30.377568Z"
    }
   },
   "outputs": [
    {
     "data": {
      "text/html": [
       "<div>\n",
       "<style scoped>\n",
       "    .dataframe tbody tr th:only-of-type {\n",
       "        vertical-align: middle;\n",
       "    }\n",
       "\n",
       "    .dataframe tbody tr th {\n",
       "        vertical-align: top;\n",
       "    }\n",
       "\n",
       "    .dataframe thead th {\n",
       "        text-align: right;\n",
       "    }\n",
       "</style>\n",
       "<table border=\"1\" class=\"dataframe\">\n",
       "  <thead>\n",
       "    <tr style=\"text-align: right;\">\n",
       "      <th></th>\n",
       "      <th>_links.git</th>\n",
       "      <th>_links.html</th>\n",
       "      <th>_links.self</th>\n",
       "      <th>content</th>\n",
       "      <th>download_url</th>\n",
       "      <th>encoding</th>\n",
       "      <th>git_url</th>\n",
       "      <th>html_url</th>\n",
       "      <th>name</th>\n",
       "      <th>path</th>\n",
       "      <th>sha</th>\n",
       "      <th>size</th>\n",
       "      <th>type</th>\n",
       "      <th>url</th>\n",
       "    </tr>\n",
       "  </thead>\n",
       "  <tbody>\n",
       "    <tr>\n",
       "      <th>0</th>\n",
       "      <td>https://api.github.com/repos/ironhack-datalabs...</td>\n",
       "      <td>https://github.com/ironhack-datalabs/scavenger...</td>\n",
       "      <td>https://api.github.com/repos/ironhack-datalabs...</td>\n",
       "      <td>LkRTX1N0b3JlCg==\\n</td>\n",
       "      <td>https://raw.githubusercontent.com/ironhack-dat...</td>\n",
       "      <td>base64</td>\n",
       "      <td>https://api.github.com/repos/ironhack-datalabs...</td>\n",
       "      <td>https://github.com/ironhack-datalabs/scavenger...</td>\n",
       "      <td>.gitignore</td>\n",
       "      <td>.gitignore</td>\n",
       "      <td>e43b0f988953ae3a84b00331d0ccf5f7d51cb3cf</td>\n",
       "      <td>10</td>\n",
       "      <td>file</td>\n",
       "      <td>https://api.github.com/repos/ironhack-datalabs...</td>\n",
       "    </tr>\n",
       "    <tr>\n",
       "      <th>0</th>\n",
       "      <td>https://api.github.com/repos/ironhack-datalabs...</td>\n",
       "      <td>https://github.com/ironhack-datalabs/scavenger...</td>\n",
       "      <td>https://api.github.com/repos/ironhack-datalabs...</td>\n",
       "      <td>NaN</td>\n",
       "      <td>https://raw.githubusercontent.com/ironhack-dat...</td>\n",
       "      <td>NaN</td>\n",
       "      <td>https://api.github.com/repos/ironhack-datalabs...</td>\n",
       "      <td>https://github.com/ironhack-datalabs/scavenger...</td>\n",
       "      <td>.0006.scavengerhunt</td>\n",
       "      <td>15024/.0006.scavengerhunt</td>\n",
       "      <td>1c9064284a24b3486015eafdb391b141c27ada2b</td>\n",
       "      <td>3</td>\n",
       "      <td>file</td>\n",
       "      <td>https://api.github.com/repos/ironhack-datalabs...</td>\n",
       "    </tr>\n",
       "    <tr>\n",
       "      <th>1</th>\n",
       "      <td>https://api.github.com/repos/ironhack-datalabs...</td>\n",
       "      <td>https://github.com/ironhack-datalabs/scavenger...</td>\n",
       "      <td>https://api.github.com/repos/ironhack-datalabs...</td>\n",
       "      <td>NaN</td>\n",
       "      <td>https://raw.githubusercontent.com/ironhack-dat...</td>\n",
       "      <td>NaN</td>\n",
       "      <td>https://api.github.com/repos/ironhack-datalabs...</td>\n",
       "      <td>https://github.com/ironhack-datalabs/scavenger...</td>\n",
       "      <td>40</td>\n",
       "      <td>15024/40</td>\n",
       "      <td>e69de29bb2d1d6434b8b29ae775ad8c2e48c5391</td>\n",
       "      <td>0</td>\n",
       "      <td>file</td>\n",
       "      <td>https://api.github.com/repos/ironhack-datalabs...</td>\n",
       "    </tr>\n",
       "    <tr>\n",
       "      <th>2</th>\n",
       "      <td>https://api.github.com/repos/ironhack-datalabs...</td>\n",
       "      <td>https://github.com/ironhack-datalabs/scavenger...</td>\n",
       "      <td>https://api.github.com/repos/ironhack-datalabs...</td>\n",
       "      <td>NaN</td>\n",
       "      <td>https://raw.githubusercontent.com/ironhack-dat...</td>\n",
       "      <td>NaN</td>\n",
       "      <td>https://api.github.com/repos/ironhack-datalabs...</td>\n",
       "      <td>https://github.com/ironhack-datalabs/scavenger...</td>\n",
       "      <td>74</td>\n",
       "      <td>15024/74</td>\n",
       "      <td>e69de29bb2d1d6434b8b29ae775ad8c2e48c5391</td>\n",
       "      <td>0</td>\n",
       "      <td>file</td>\n",
       "      <td>https://api.github.com/repos/ironhack-datalabs...</td>\n",
       "    </tr>\n",
       "    <tr>\n",
       "      <th>3</th>\n",
       "      <td>https://api.github.com/repos/ironhack-datalabs...</td>\n",
       "      <td>https://github.com/ironhack-datalabs/scavenger...</td>\n",
       "      <td>https://api.github.com/repos/ironhack-datalabs...</td>\n",
       "      <td>NaN</td>\n",
       "      <td>https://raw.githubusercontent.com/ironhack-dat...</td>\n",
       "      <td>NaN</td>\n",
       "      <td>https://api.github.com/repos/ironhack-datalabs...</td>\n",
       "      <td>https://github.com/ironhack-datalabs/scavenger...</td>\n",
       "      <td>99</td>\n",
       "      <td>15024/99</td>\n",
       "      <td>e69de29bb2d1d6434b8b29ae775ad8c2e48c5391</td>\n",
       "      <td>0</td>\n",
       "      <td>file</td>\n",
       "      <td>https://api.github.com/repos/ironhack-datalabs...</td>\n",
       "    </tr>\n",
       "    <tr>\n",
       "      <th>0</th>\n",
       "      <td>https://api.github.com/repos/ironhack-datalabs...</td>\n",
       "      <td>https://github.com/ironhack-datalabs/scavenger...</td>\n",
       "      <td>https://api.github.com/repos/ironhack-datalabs...</td>\n",
       "      <td>NaN</td>\n",
       "      <td>https://raw.githubusercontent.com/ironhack-dat...</td>\n",
       "      <td>NaN</td>\n",
       "      <td>https://api.github.com/repos/ironhack-datalabs...</td>\n",
       "      <td>https://github.com/ironhack-datalabs/scavenger...</td>\n",
       "      <td>.0008.scavengerhunt</td>\n",
       "      <td>15534/.0008.scavengerhunt</td>\n",
       "      <td>e351fb73264581ce26504b97ef07daea35116f32</td>\n",
       "      <td>6</td>\n",
       "      <td>file</td>\n",
       "      <td>https://api.github.com/repos/ironhack-datalabs...</td>\n",
       "    </tr>\n",
       "    <tr>\n",
       "      <th>1</th>\n",
       "      <td>https://api.github.com/repos/ironhack-datalabs...</td>\n",
       "      <td>https://github.com/ironhack-datalabs/scavenger...</td>\n",
       "      <td>https://api.github.com/repos/ironhack-datalabs...</td>\n",
       "      <td>NaN</td>\n",
       "      <td>https://raw.githubusercontent.com/ironhack-dat...</td>\n",
       "      <td>NaN</td>\n",
       "      <td>https://api.github.com/repos/ironhack-datalabs...</td>\n",
       "      <td>https://github.com/ironhack-datalabs/scavenger...</td>\n",
       "      <td>.0012.scavengerhunt</td>\n",
       "      <td>15534/.0012.scavengerhunt</td>\n",
       "      <td>209e3ef4b6247ce746048d5711befda46206d235</td>\n",
       "      <td>3</td>\n",
       "      <td>file</td>\n",
       "      <td>https://api.github.com/repos/ironhack-datalabs...</td>\n",
       "    </tr>\n",
       "    <tr>\n",
       "      <th>2</th>\n",
       "      <td>https://api.github.com/repos/ironhack-datalabs...</td>\n",
       "      <td>https://github.com/ironhack-datalabs/scavenger...</td>\n",
       "      <td>https://api.github.com/repos/ironhack-datalabs...</td>\n",
       "      <td>NaN</td>\n",
       "      <td>https://raw.githubusercontent.com/ironhack-dat...</td>\n",
       "      <td>NaN</td>\n",
       "      <td>https://api.github.com/repos/ironhack-datalabs...</td>\n",
       "      <td>https://github.com/ironhack-datalabs/scavenger...</td>\n",
       "      <td>2</td>\n",
       "      <td>15534/2</td>\n",
       "      <td>e69de29bb2d1d6434b8b29ae775ad8c2e48c5391</td>\n",
       "      <td>0</td>\n",
       "      <td>file</td>\n",
       "      <td>https://api.github.com/repos/ironhack-datalabs...</td>\n",
       "    </tr>\n",
       "    <tr>\n",
       "      <th>3</th>\n",
       "      <td>https://api.github.com/repos/ironhack-datalabs...</td>\n",
       "      <td>https://github.com/ironhack-datalabs/scavenger...</td>\n",
       "      <td>https://api.github.com/repos/ironhack-datalabs...</td>\n",
       "      <td>NaN</td>\n",
       "      <td>https://raw.githubusercontent.com/ironhack-dat...</td>\n",
       "      <td>NaN</td>\n",
       "      <td>https://api.github.com/repos/ironhack-datalabs...</td>\n",
       "      <td>https://github.com/ironhack-datalabs/scavenger...</td>\n",
       "      <td>98</td>\n",
       "      <td>15534/98</td>\n",
       "      <td>e69de29bb2d1d6434b8b29ae775ad8c2e48c5391</td>\n",
       "      <td>0</td>\n",
       "      <td>file</td>\n",
       "      <td>https://api.github.com/repos/ironhack-datalabs...</td>\n",
       "    </tr>\n",
       "    <tr>\n",
       "      <th>0</th>\n",
       "      <td>https://api.github.com/repos/ironhack-datalabs...</td>\n",
       "      <td>https://github.com/ironhack-datalabs/scavenger...</td>\n",
       "      <td>https://api.github.com/repos/ironhack-datalabs...</td>\n",
       "      <td>NaN</td>\n",
       "      <td>https://raw.githubusercontent.com/ironhack-dat...</td>\n",
       "      <td>NaN</td>\n",
       "      <td>https://api.github.com/repos/ironhack-datalabs...</td>\n",
       "      <td>https://github.com/ironhack-datalabs/scavenger...</td>\n",
       "      <td>.0007.scavengerhunt</td>\n",
       "      <td>17020/.0007.scavengerhunt</td>\n",
       "      <td>6abb415e0ae3450be0f323113bcca2af195ebbff</td>\n",
       "      <td>5</td>\n",
       "      <td>file</td>\n",
       "      <td>https://api.github.com/repos/ironhack-datalabs...</td>\n",
       "    </tr>\n",
       "  </tbody>\n",
       "</table>\n",
       "</div>"
      ],
      "text/plain": [
       "                                          _links.git  \\\n",
       "0  https://api.github.com/repos/ironhack-datalabs...   \n",
       "0  https://api.github.com/repos/ironhack-datalabs...   \n",
       "1  https://api.github.com/repos/ironhack-datalabs...   \n",
       "2  https://api.github.com/repos/ironhack-datalabs...   \n",
       "3  https://api.github.com/repos/ironhack-datalabs...   \n",
       "0  https://api.github.com/repos/ironhack-datalabs...   \n",
       "1  https://api.github.com/repos/ironhack-datalabs...   \n",
       "2  https://api.github.com/repos/ironhack-datalabs...   \n",
       "3  https://api.github.com/repos/ironhack-datalabs...   \n",
       "0  https://api.github.com/repos/ironhack-datalabs...   \n",
       "\n",
       "                                         _links.html  \\\n",
       "0  https://github.com/ironhack-datalabs/scavenger...   \n",
       "0  https://github.com/ironhack-datalabs/scavenger...   \n",
       "1  https://github.com/ironhack-datalabs/scavenger...   \n",
       "2  https://github.com/ironhack-datalabs/scavenger...   \n",
       "3  https://github.com/ironhack-datalabs/scavenger...   \n",
       "0  https://github.com/ironhack-datalabs/scavenger...   \n",
       "1  https://github.com/ironhack-datalabs/scavenger...   \n",
       "2  https://github.com/ironhack-datalabs/scavenger...   \n",
       "3  https://github.com/ironhack-datalabs/scavenger...   \n",
       "0  https://github.com/ironhack-datalabs/scavenger...   \n",
       "\n",
       "                                         _links.self             content  \\\n",
       "0  https://api.github.com/repos/ironhack-datalabs...  LkRTX1N0b3JlCg==\\n   \n",
       "0  https://api.github.com/repos/ironhack-datalabs...                 NaN   \n",
       "1  https://api.github.com/repos/ironhack-datalabs...                 NaN   \n",
       "2  https://api.github.com/repos/ironhack-datalabs...                 NaN   \n",
       "3  https://api.github.com/repos/ironhack-datalabs...                 NaN   \n",
       "0  https://api.github.com/repos/ironhack-datalabs...                 NaN   \n",
       "1  https://api.github.com/repos/ironhack-datalabs...                 NaN   \n",
       "2  https://api.github.com/repos/ironhack-datalabs...                 NaN   \n",
       "3  https://api.github.com/repos/ironhack-datalabs...                 NaN   \n",
       "0  https://api.github.com/repos/ironhack-datalabs...                 NaN   \n",
       "\n",
       "                                        download_url encoding  \\\n",
       "0  https://raw.githubusercontent.com/ironhack-dat...   base64   \n",
       "0  https://raw.githubusercontent.com/ironhack-dat...      NaN   \n",
       "1  https://raw.githubusercontent.com/ironhack-dat...      NaN   \n",
       "2  https://raw.githubusercontent.com/ironhack-dat...      NaN   \n",
       "3  https://raw.githubusercontent.com/ironhack-dat...      NaN   \n",
       "0  https://raw.githubusercontent.com/ironhack-dat...      NaN   \n",
       "1  https://raw.githubusercontent.com/ironhack-dat...      NaN   \n",
       "2  https://raw.githubusercontent.com/ironhack-dat...      NaN   \n",
       "3  https://raw.githubusercontent.com/ironhack-dat...      NaN   \n",
       "0  https://raw.githubusercontent.com/ironhack-dat...      NaN   \n",
       "\n",
       "                                             git_url  \\\n",
       "0  https://api.github.com/repos/ironhack-datalabs...   \n",
       "0  https://api.github.com/repos/ironhack-datalabs...   \n",
       "1  https://api.github.com/repos/ironhack-datalabs...   \n",
       "2  https://api.github.com/repos/ironhack-datalabs...   \n",
       "3  https://api.github.com/repos/ironhack-datalabs...   \n",
       "0  https://api.github.com/repos/ironhack-datalabs...   \n",
       "1  https://api.github.com/repos/ironhack-datalabs...   \n",
       "2  https://api.github.com/repos/ironhack-datalabs...   \n",
       "3  https://api.github.com/repos/ironhack-datalabs...   \n",
       "0  https://api.github.com/repos/ironhack-datalabs...   \n",
       "\n",
       "                                            html_url                 name  \\\n",
       "0  https://github.com/ironhack-datalabs/scavenger...           .gitignore   \n",
       "0  https://github.com/ironhack-datalabs/scavenger...  .0006.scavengerhunt   \n",
       "1  https://github.com/ironhack-datalabs/scavenger...                   40   \n",
       "2  https://github.com/ironhack-datalabs/scavenger...                   74   \n",
       "3  https://github.com/ironhack-datalabs/scavenger...                   99   \n",
       "0  https://github.com/ironhack-datalabs/scavenger...  .0008.scavengerhunt   \n",
       "1  https://github.com/ironhack-datalabs/scavenger...  .0012.scavengerhunt   \n",
       "2  https://github.com/ironhack-datalabs/scavenger...                    2   \n",
       "3  https://github.com/ironhack-datalabs/scavenger...                   98   \n",
       "0  https://github.com/ironhack-datalabs/scavenger...  .0007.scavengerhunt   \n",
       "\n",
       "                        path                                       sha  size  \\\n",
       "0                 .gitignore  e43b0f988953ae3a84b00331d0ccf5f7d51cb3cf    10   \n",
       "0  15024/.0006.scavengerhunt  1c9064284a24b3486015eafdb391b141c27ada2b     3   \n",
       "1                   15024/40  e69de29bb2d1d6434b8b29ae775ad8c2e48c5391     0   \n",
       "2                   15024/74  e69de29bb2d1d6434b8b29ae775ad8c2e48c5391     0   \n",
       "3                   15024/99  e69de29bb2d1d6434b8b29ae775ad8c2e48c5391     0   \n",
       "0  15534/.0008.scavengerhunt  e351fb73264581ce26504b97ef07daea35116f32     6   \n",
       "1  15534/.0012.scavengerhunt  209e3ef4b6247ce746048d5711befda46206d235     3   \n",
       "2                    15534/2  e69de29bb2d1d6434b8b29ae775ad8c2e48c5391     0   \n",
       "3                   15534/98  e69de29bb2d1d6434b8b29ae775ad8c2e48c5391     0   \n",
       "0  17020/.0007.scavengerhunt  6abb415e0ae3450be0f323113bcca2af195ebbff     5   \n",
       "\n",
       "   type                                                url  \n",
       "0  file  https://api.github.com/repos/ironhack-datalabs...  \n",
       "0  file  https://api.github.com/repos/ironhack-datalabs...  \n",
       "1  file  https://api.github.com/repos/ironhack-datalabs...  \n",
       "2  file  https://api.github.com/repos/ironhack-datalabs...  \n",
       "3  file  https://api.github.com/repos/ironhack-datalabs...  \n",
       "0  file  https://api.github.com/repos/ironhack-datalabs...  \n",
       "1  file  https://api.github.com/repos/ironhack-datalabs...  \n",
       "2  file  https://api.github.com/repos/ironhack-datalabs...  \n",
       "3  file  https://api.github.com/repos/ironhack-datalabs...  \n",
       "0  file  https://api.github.com/repos/ironhack-datalabs...  "
      ]
     },
     "execution_count": 214,
     "metadata": {},
     "output_type": "execute_result"
    }
   ],
   "source": [
    "files2=files\n",
    "files2.head(10)"
   ]
  },
  {
   "cell_type": "code",
   "execution_count": 215,
   "metadata": {
    "ExecuteTime": {
     "end_time": "2020-02-08T19:45:31.643046Z",
     "start_time": "2020-02-08T19:45:31.635568Z"
    }
   },
   "outputs": [],
   "source": [
    "scavenger_df=files2[(files2['name'].str.contains('scavenger'))]"
   ]
  },
  {
   "cell_type": "code",
   "execution_count": 216,
   "metadata": {
    "ExecuteTime": {
     "end_time": "2020-02-08T19:45:32.543452Z",
     "start_time": "2020-02-08T19:45:32.534326Z"
    }
   },
   "outputs": [
    {
     "data": {
      "text/plain": [
       "Index(['_links.git', '_links.html', '_links.self', 'content', 'download_url',\n",
       "       'encoding', 'git_url', 'html_url', 'name', 'path', 'sha', 'size',\n",
       "       'type', 'url'],\n",
       "      dtype='object')"
      ]
     },
     "execution_count": 216,
     "metadata": {},
     "output_type": "execute_result"
    }
   ],
   "source": [
    "scavenger_df.columns"
   ]
  },
  {
   "cell_type": "code",
   "execution_count": 217,
   "metadata": {
    "ExecuteTime": {
     "end_time": "2020-02-08T19:45:33.169829Z",
     "start_time": "2020-02-08T19:45:33.144345Z"
    }
   },
   "outputs": [
    {
     "data": {
      "text/html": [
       "<div>\n",
       "<style scoped>\n",
       "    .dataframe tbody tr th:only-of-type {\n",
       "        vertical-align: middle;\n",
       "    }\n",
       "\n",
       "    .dataframe tbody tr th {\n",
       "        vertical-align: top;\n",
       "    }\n",
       "\n",
       "    .dataframe thead th {\n",
       "        text-align: right;\n",
       "    }\n",
       "</style>\n",
       "<table border=\"1\" class=\"dataframe\">\n",
       "  <thead>\n",
       "    <tr style=\"text-align: right;\">\n",
       "      <th></th>\n",
       "      <th>_links.git</th>\n",
       "      <th>_links.html</th>\n",
       "      <th>_links.self</th>\n",
       "      <th>content</th>\n",
       "      <th>download_url</th>\n",
       "      <th>encoding</th>\n",
       "      <th>git_url</th>\n",
       "      <th>html_url</th>\n",
       "      <th>name</th>\n",
       "      <th>path</th>\n",
       "      <th>sha</th>\n",
       "      <th>size</th>\n",
       "      <th>type</th>\n",
       "      <th>url</th>\n",
       "    </tr>\n",
       "  </thead>\n",
       "  <tbody>\n",
       "    <tr>\n",
       "      <th>0</th>\n",
       "      <td>https://api.github.com/repos/ironhack-datalabs...</td>\n",
       "      <td>https://github.com/ironhack-datalabs/scavenger...</td>\n",
       "      <td>https://api.github.com/repos/ironhack-datalabs...</td>\n",
       "      <td>NaN</td>\n",
       "      <td>https://raw.githubusercontent.com/ironhack-dat...</td>\n",
       "      <td>NaN</td>\n",
       "      <td>https://api.github.com/repos/ironhack-datalabs...</td>\n",
       "      <td>https://github.com/ironhack-datalabs/scavenger...</td>\n",
       "      <td>.0001.scavengerhunt</td>\n",
       "      <td>98750/.0001.scavengerhunt</td>\n",
       "      <td>2add7632f1323136324efbf38ec66db1838b6173</td>\n",
       "      <td>3</td>\n",
       "      <td>file</td>\n",
       "      <td>https://api.github.com/repos/ironhack-datalabs...</td>\n",
       "    </tr>\n",
       "    <tr>\n",
       "      <th>0</th>\n",
       "      <td>https://api.github.com/repos/ironhack-datalabs...</td>\n",
       "      <td>https://github.com/ironhack-datalabs/scavenger...</td>\n",
       "      <td>https://api.github.com/repos/ironhack-datalabs...</td>\n",
       "      <td>NaN</td>\n",
       "      <td>https://raw.githubusercontent.com/ironhack-dat...</td>\n",
       "      <td>NaN</td>\n",
       "      <td>https://api.github.com/repos/ironhack-datalabs...</td>\n",
       "      <td>https://github.com/ironhack-datalabs/scavenger...</td>\n",
       "      <td>.0002.scavengerhunt</td>\n",
       "      <td>88596/.0002.scavengerhunt</td>\n",
       "      <td>1269488f7fb1f4b56a8c0e5eb48cecbfadfa9219</td>\n",
       "      <td>5</td>\n",
       "      <td>file</td>\n",
       "      <td>https://api.github.com/repos/ironhack-datalabs...</td>\n",
       "    </tr>\n",
       "  </tbody>\n",
       "</table>\n",
       "</div>"
      ],
      "text/plain": [
       "                                          _links.git  \\\n",
       "0  https://api.github.com/repos/ironhack-datalabs...   \n",
       "0  https://api.github.com/repos/ironhack-datalabs...   \n",
       "\n",
       "                                         _links.html  \\\n",
       "0  https://github.com/ironhack-datalabs/scavenger...   \n",
       "0  https://github.com/ironhack-datalabs/scavenger...   \n",
       "\n",
       "                                         _links.self content  \\\n",
       "0  https://api.github.com/repos/ironhack-datalabs...     NaN   \n",
       "0  https://api.github.com/repos/ironhack-datalabs...     NaN   \n",
       "\n",
       "                                        download_url encoding  \\\n",
       "0  https://raw.githubusercontent.com/ironhack-dat...      NaN   \n",
       "0  https://raw.githubusercontent.com/ironhack-dat...      NaN   \n",
       "\n",
       "                                             git_url  \\\n",
       "0  https://api.github.com/repos/ironhack-datalabs...   \n",
       "0  https://api.github.com/repos/ironhack-datalabs...   \n",
       "\n",
       "                                            html_url                 name  \\\n",
       "0  https://github.com/ironhack-datalabs/scavenger...  .0001.scavengerhunt   \n",
       "0  https://github.com/ironhack-datalabs/scavenger...  .0002.scavengerhunt   \n",
       "\n",
       "                        path                                       sha  size  \\\n",
       "0  98750/.0001.scavengerhunt  2add7632f1323136324efbf38ec66db1838b6173     3   \n",
       "0  88596/.0002.scavengerhunt  1269488f7fb1f4b56a8c0e5eb48cecbfadfa9219     5   \n",
       "\n",
       "   type                                                url  \n",
       "0  file  https://api.github.com/repos/ironhack-datalabs...  \n",
       "0  file  https://api.github.com/repos/ironhack-datalabs...  "
      ]
     },
     "execution_count": 217,
     "metadata": {},
     "output_type": "execute_result"
    }
   ],
   "source": [
    "#countries.sort_values(by=['Case_Number'], ascending=False).head(15)\n",
    "scavenger_df=scavenger_df.sort_values(['name'],ascending=True)\n",
    "scavenger_df.head(2)"
   ]
  },
  {
   "cell_type": "code",
   "execution_count": 220,
   "metadata": {
    "ExecuteTime": {
     "end_time": "2020-02-08T19:45:39.417458Z",
     "start_time": "2020-02-08T19:45:39.396232Z"
    }
   },
   "outputs": [
    {
     "data": {
      "text/html": [
       "<div>\n",
       "<style scoped>\n",
       "    .dataframe tbody tr th:only-of-type {\n",
       "        vertical-align: middle;\n",
       "    }\n",
       "\n",
       "    .dataframe tbody tr th {\n",
       "        vertical-align: top;\n",
       "    }\n",
       "\n",
       "    .dataframe thead th {\n",
       "        text-align: right;\n",
       "    }\n",
       "</style>\n",
       "<table border=\"1\" class=\"dataframe\">\n",
       "  <thead>\n",
       "    <tr style=\"text-align: right;\">\n",
       "      <th></th>\n",
       "      <th>name</th>\n",
       "      <th>content</th>\n",
       "    </tr>\n",
       "  </thead>\n",
       "  <tbody>\n",
       "    <tr>\n",
       "      <th>0</th>\n",
       "      <td>.0001.scavengerhunt</td>\n",
       "      <td>NaN</td>\n",
       "    </tr>\n",
       "    <tr>\n",
       "      <th>0</th>\n",
       "      <td>.0002.scavengerhunt</td>\n",
       "      <td>NaN</td>\n",
       "    </tr>\n",
       "    <tr>\n",
       "      <th>0</th>\n",
       "      <td>.0003.scavengerhunt</td>\n",
       "      <td>NaN</td>\n",
       "    </tr>\n",
       "    <tr>\n",
       "      <th>0</th>\n",
       "      <td>.0004.scavengerhunt</td>\n",
       "      <td>NaN</td>\n",
       "    </tr>\n",
       "    <tr>\n",
       "      <th>0</th>\n",
       "      <td>.0005.scavengerhunt</td>\n",
       "      <td>NaN</td>\n",
       "    </tr>\n",
       "    <tr>\n",
       "      <th>0</th>\n",
       "      <td>.0006.scavengerhunt</td>\n",
       "      <td>NaN</td>\n",
       "    </tr>\n",
       "    <tr>\n",
       "      <th>0</th>\n",
       "      <td>.0007.scavengerhunt</td>\n",
       "      <td>NaN</td>\n",
       "    </tr>\n",
       "    <tr>\n",
       "      <th>0</th>\n",
       "      <td>.0008.scavengerhunt</td>\n",
       "      <td>NaN</td>\n",
       "    </tr>\n",
       "    <tr>\n",
       "      <th>0</th>\n",
       "      <td>.0009.scavengerhunt</td>\n",
       "      <td>NaN</td>\n",
       "    </tr>\n",
       "    <tr>\n",
       "      <th>0</th>\n",
       "      <td>.0010.scavengerhunt</td>\n",
       "      <td>NaN</td>\n",
       "    </tr>\n",
       "    <tr>\n",
       "      <th>0</th>\n",
       "      <td>.0011.scavengerhunt</td>\n",
       "      <td>NaN</td>\n",
       "    </tr>\n",
       "    <tr>\n",
       "      <th>1</th>\n",
       "      <td>.0012.scavengerhunt</td>\n",
       "      <td>NaN</td>\n",
       "    </tr>\n",
       "    <tr>\n",
       "      <th>0</th>\n",
       "      <td>.0013.scavengerhunt</td>\n",
       "      <td>NaN</td>\n",
       "    </tr>\n",
       "    <tr>\n",
       "      <th>0</th>\n",
       "      <td>.0014.scavengerhunt</td>\n",
       "      <td>NaN</td>\n",
       "    </tr>\n",
       "    <tr>\n",
       "      <th>0</th>\n",
       "      <td>.0015.scavengerhunt</td>\n",
       "      <td>NaN</td>\n",
       "    </tr>\n",
       "    <tr>\n",
       "      <th>0</th>\n",
       "      <td>.0016.scavengerhunt</td>\n",
       "      <td>NaN</td>\n",
       "    </tr>\n",
       "    <tr>\n",
       "      <th>0</th>\n",
       "      <td>.0017.scavengerhunt</td>\n",
       "      <td>NaN</td>\n",
       "    </tr>\n",
       "    <tr>\n",
       "      <th>0</th>\n",
       "      <td>.0018.scavengerhunt</td>\n",
       "      <td>NaN</td>\n",
       "    </tr>\n",
       "    <tr>\n",
       "      <th>0</th>\n",
       "      <td>.0019.scavengerhunt</td>\n",
       "      <td>NaN</td>\n",
       "    </tr>\n",
       "    <tr>\n",
       "      <th>0</th>\n",
       "      <td>.0020.scavengerhunt</td>\n",
       "      <td>NaN</td>\n",
       "    </tr>\n",
       "    <tr>\n",
       "      <th>0</th>\n",
       "      <td>.0021.scavengerhunt</td>\n",
       "      <td>NaN</td>\n",
       "    </tr>\n",
       "    <tr>\n",
       "      <th>0</th>\n",
       "      <td>.0022.scavengerhunt</td>\n",
       "      <td>NaN</td>\n",
       "    </tr>\n",
       "    <tr>\n",
       "      <th>0</th>\n",
       "      <td>.0023.scavengerhunt</td>\n",
       "      <td>NaN</td>\n",
       "    </tr>\n",
       "    <tr>\n",
       "      <th>1</th>\n",
       "      <td>.0024.scavengerhunt</td>\n",
       "      <td>NaN</td>\n",
       "    </tr>\n",
       "  </tbody>\n",
       "</table>\n",
       "</div>"
      ],
      "text/plain": [
       "                  name content\n",
       "0  .0001.scavengerhunt     NaN\n",
       "0  .0002.scavengerhunt     NaN\n",
       "0  .0003.scavengerhunt     NaN\n",
       "0  .0004.scavengerhunt     NaN\n",
       "0  .0005.scavengerhunt     NaN\n",
       "0  .0006.scavengerhunt     NaN\n",
       "0  .0007.scavengerhunt     NaN\n",
       "0  .0008.scavengerhunt     NaN\n",
       "0  .0009.scavengerhunt     NaN\n",
       "0  .0010.scavengerhunt     NaN\n",
       "0  .0011.scavengerhunt     NaN\n",
       "1  .0012.scavengerhunt     NaN\n",
       "0  .0013.scavengerhunt     NaN\n",
       "0  .0014.scavengerhunt     NaN\n",
       "0  .0015.scavengerhunt     NaN\n",
       "0  .0016.scavengerhunt     NaN\n",
       "0  .0017.scavengerhunt     NaN\n",
       "0  .0018.scavengerhunt     NaN\n",
       "0  .0019.scavengerhunt     NaN\n",
       "0  .0020.scavengerhunt     NaN\n",
       "0  .0021.scavengerhunt     NaN\n",
       "0  .0022.scavengerhunt     NaN\n",
       "0  .0023.scavengerhunt     NaN\n",
       "1  .0024.scavengerhunt     NaN"
      ]
     },
     "execution_count": 220,
     "metadata": {},
     "output_type": "execute_result"
    }
   ],
   "source": [
    "x=scavenger_df[['name','content']]\n",
    "x"
   ]
  },
  {
   "cell_type": "code",
   "execution_count": null,
   "metadata": {},
   "outputs": [],
   "source": []
  }
 ],
 "metadata": {
  "kernelspec": {
   "display_name": "Python 3",
   "language": "python",
   "name": "python3"
  },
  "language_info": {
   "codemirror_mode": {
    "name": "ipython",
    "version": 3
   },
   "file_extension": ".py",
   "mimetype": "text/x-python",
   "name": "python",
   "nbconvert_exporter": "python",
   "pygments_lexer": "ipython3",
   "version": "3.7.4"
  },
  "varInspector": {
   "cols": {
    "lenName": 16,
    "lenType": 16,
    "lenVar": 40
   },
   "kernels_config": {
    "python": {
     "delete_cmd_postfix": "",
     "delete_cmd_prefix": "del ",
     "library": "var_list.py",
     "varRefreshCmd": "print(var_dic_list())"
    },
    "r": {
     "delete_cmd_postfix": ") ",
     "delete_cmd_prefix": "rm(",
     "library": "var_list.r",
     "varRefreshCmd": "cat(var_dic_list()) "
    }
   },
   "types_to_exclude": [
    "module",
    "function",
    "builtin_function_or_method",
    "instance",
    "_Feature"
   ],
   "window_display": false
  }
 },
 "nbformat": 4,
 "nbformat_minor": 2
}
