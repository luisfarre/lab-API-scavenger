{
 "cells": [
  {
   "cell_type": "code",
   "execution_count": 332,
   "metadata": {
    "ExecuteTime": {
     "end_time": "2020-02-08T21:04:28.106250Z",
     "start_time": "2020-02-08T21:04:28.099569Z"
    }
   },
   "outputs": [],
   "source": [
    "import json\n",
    "import requests\n",
    "import pandas as pd\n",
    "import base64\n",
    "from pandas.io.json import json_normalize"
   ]
  },
  {
   "cell_type": "markdown",
   "metadata": {
    "ExecuteTime": {
     "end_time": "2020-02-08T17:50:41.842726Z",
     "start_time": "2020-02-08T17:50:41.821775Z"
    }
   },
   "source": [
    "### Challenge 1: \n",
    "\n",
    "Fork Languages\n",
    "You will find out how many programming languages are used among all the forks created from the main lab repo of your bootcamp. Assuming the main lab repo is ironhack-datalabs/madrid-oct-2018, you will:\n",
    "\n",
    "Obtain the full list of forks created from the main lab repo via Github API.\n",
    "\n",
    "Loop the JSON response to find out the language attribute of each fork. Use an array to store the language attributes of each fork.\n",
    "\n",
    "Hint: Each language should appear only once in your array.\n",
    "Print the language array. It should be something like:\n",
    "\n",
    "[\"Python\", \"Jupyter Notebook\", \"HTML\"]\n",
    "\n",
    "Again, the documentation of Github API is here."
   ]
  },
  {
   "cell_type": "code",
   "execution_count": 333,
   "metadata": {
    "ExecuteTime": {
     "end_time": "2020-02-08T21:05:15.054663Z",
     "start_time": "2020-02-08T21:05:14.418870Z"
    }
   },
   "outputs": [],
   "source": [
    "url = 'https://api.github.com/repos/ironhack-datalabs/mad-oct-2018/forks'\n",
    "result = requests.get(url).json()\n",
    "x=[i['language'] for i in result ]\n"
   ]
  },
  {
   "cell_type": "code",
   "execution_count": 334,
   "metadata": {
    "ExecuteTime": {
     "end_time": "2020-02-08T21:05:15.968230Z",
     "start_time": "2020-02-08T21:05:15.958294Z"
    }
   },
   "outputs": [
    {
     "data": {
      "text/plain": [
       "[None, 'Python', 'Jupyter Notebook', 'HTML']"
      ]
     },
     "execution_count": 334,
     "metadata": {},
     "output_type": "execute_result"
    }
   ],
   "source": [
    "languages=list(set(x))\n",
    "languages"
   ]
  },
  {
   "cell_type": "code",
   "execution_count": 335,
   "metadata": {
    "ExecuteTime": {
     "end_time": "2020-02-08T21:05:21.917205Z",
     "start_time": "2020-02-08T21:05:21.908529Z"
    }
   },
   "outputs": [
    {
     "data": {
      "text/plain": [
       "['Python', 'Jupyter Notebook', 'HTML']"
      ]
     },
     "execution_count": 335,
     "metadata": {},
     "output_type": "execute_result"
    }
   ],
   "source": [
    "languages.remove(None)\n",
    "languages"
   ]
  },
  {
   "cell_type": "markdown",
   "metadata": {},
   "source": [
    "### Challenge 2: \n",
    "Count Commits\n",
    "\n",
    "Count how many commits were made in the past week.\n",
    "\n",
    "Obtain all the commits made in the past week via API, which is a JSON array that contains multiple commit objects.\n",
    "\n",
    "Count how many commit objects are contained in the array."
   ]
  },
  {
   "cell_type": "code",
   "execution_count": 336,
   "metadata": {
    "ExecuteTime": {
     "end_time": "2020-02-08T21:05:32.017715Z",
     "start_time": "2020-02-08T21:05:32.011025Z"
    }
   },
   "outputs": [],
   "source": [
    "#En la ultima semana no hay ningun commit, he sacado desde el 1 de enero de 2019\n",
    "url = 'https://api.github.com/repos/ironhack-datalabs/mad-oct-2018/commits?since=2019-01-01T10:00:00Z'\n"
   ]
  },
  {
   "cell_type": "code",
   "execution_count": 337,
   "metadata": {
    "ExecuteTime": {
     "end_time": "2020-02-08T21:05:34.451052Z",
     "start_time": "2020-02-08T21:05:34.000575Z"
    }
   },
   "outputs": [
    {
     "data": {
      "text/plain": [
       "<Response [200]>"
      ]
     },
     "execution_count": 337,
     "metadata": {},
     "output_type": "execute_result"
    }
   ],
   "source": [
    "response = requests.get(url)\n",
    "response"
   ]
  },
  {
   "cell_type": "code",
   "execution_count": 338,
   "metadata": {
    "ExecuteTime": {
     "end_time": "2020-02-08T21:05:36.020532Z",
     "start_time": "2020-02-08T21:05:35.949895Z"
    }
   },
   "outputs": [
    {
     "data": {
      "text/html": [
       "<div>\n",
       "<style scoped>\n",
       "    .dataframe tbody tr th:only-of-type {\n",
       "        vertical-align: middle;\n",
       "    }\n",
       "\n",
       "    .dataframe tbody tr th {\n",
       "        vertical-align: top;\n",
       "    }\n",
       "\n",
       "    .dataframe thead th {\n",
       "        text-align: right;\n",
       "    }\n",
       "</style>\n",
       "<table border=\"1\" class=\"dataframe\">\n",
       "  <thead>\n",
       "    <tr style=\"text-align: right;\">\n",
       "      <th></th>\n",
       "      <th>sha</th>\n",
       "      <th>node_id</th>\n",
       "      <th>url</th>\n",
       "      <th>html_url</th>\n",
       "      <th>comments_url</th>\n",
       "      <th>parents</th>\n",
       "      <th>commit.author.name</th>\n",
       "      <th>commit.author.email</th>\n",
       "      <th>commit.author.date</th>\n",
       "      <th>commit.committer.name</th>\n",
       "      <th>...</th>\n",
       "      <th>committer.following_url</th>\n",
       "      <th>committer.gists_url</th>\n",
       "      <th>committer.starred_url</th>\n",
       "      <th>committer.subscriptions_url</th>\n",
       "      <th>committer.organizations_url</th>\n",
       "      <th>committer.repos_url</th>\n",
       "      <th>committer.events_url</th>\n",
       "      <th>committer.received_events_url</th>\n",
       "      <th>committer.type</th>\n",
       "      <th>committer.site_admin</th>\n",
       "    </tr>\n",
       "  </thead>\n",
       "  <tbody>\n",
       "    <tr>\n",
       "      <th>0</th>\n",
       "      <td>1638e5506e6947b77bfe78761d345476ae80d017</td>\n",
       "      <td>MDY6Q29tbWl0MTUzNzIwODA0OjE2MzhlNTUwNmU2OTQ3Yj...</td>\n",
       "      <td>https://api.github.com/repos/ironhack-datalabs...</td>\n",
       "      <td>https://github.com/ironhack-datalabs/mad-oct-2...</td>\n",
       "      <td>https://api.github.com/repos/ironhack-datalabs...</td>\n",
       "      <td>[{'sha': 'f332b5e6fcea965dc80f62220d7ee1457b04...</td>\n",
       "      <td>Marc Pomar</td>\n",
       "      <td>marc@faable.com</td>\n",
       "      <td>2019-08-19T11:11:36Z</td>\n",
       "      <td>Marc Pomar</td>\n",
       "      <td>...</td>\n",
       "      <td>https://api.github.com/users/boyander/followin...</td>\n",
       "      <td>https://api.github.com/users/boyander/gists{/g...</td>\n",
       "      <td>https://api.github.com/users/boyander/starred{...</td>\n",
       "      <td>https://api.github.com/users/boyander/subscrip...</td>\n",
       "      <td>https://api.github.com/users/boyander/orgs</td>\n",
       "      <td>https://api.github.com/users/boyander/repos</td>\n",
       "      <td>https://api.github.com/users/boyander/events{/...</td>\n",
       "      <td>https://api.github.com/users/boyander/received...</td>\n",
       "      <td>User</td>\n",
       "      <td>False</td>\n",
       "    </tr>\n",
       "    <tr>\n",
       "      <th>1</th>\n",
       "      <td>f332b5e6fcea965dc80f62220d7ee1457b04b90d</td>\n",
       "      <td>MDY6Q29tbWl0MTUzNzIwODA0OmYzMzJiNWU2ZmNlYTk2NW...</td>\n",
       "      <td>https://api.github.com/repos/ironhack-datalabs...</td>\n",
       "      <td>https://github.com/ironhack-datalabs/mad-oct-2...</td>\n",
       "      <td>https://api.github.com/repos/ironhack-datalabs...</td>\n",
       "      <td>[{'sha': '4c048c3efc18cf9d50e34c76919c8049ee7f...</td>\n",
       "      <td>ta-data-bcn</td>\n",
       "      <td>47005065+ta-data-bcn@users.noreply.github.com</td>\n",
       "      <td>2019-03-07T15:49:16Z</td>\n",
       "      <td>GitHub</td>\n",
       "      <td>...</td>\n",
       "      <td>https://api.github.com/users/web-flow/followin...</td>\n",
       "      <td>https://api.github.com/users/web-flow/gists{/g...</td>\n",
       "      <td>https://api.github.com/users/web-flow/starred{...</td>\n",
       "      <td>https://api.github.com/users/web-flow/subscrip...</td>\n",
       "      <td>https://api.github.com/users/web-flow/orgs</td>\n",
       "      <td>https://api.github.com/users/web-flow/repos</td>\n",
       "      <td>https://api.github.com/users/web-flow/events{/...</td>\n",
       "      <td>https://api.github.com/users/web-flow/received...</td>\n",
       "      <td>User</td>\n",
       "      <td>False</td>\n",
       "    </tr>\n",
       "  </tbody>\n",
       "</table>\n",
       "<p>2 rows × 57 columns</p>\n",
       "</div>"
      ],
      "text/plain": [
       "                                        sha  \\\n",
       "0  1638e5506e6947b77bfe78761d345476ae80d017   \n",
       "1  f332b5e6fcea965dc80f62220d7ee1457b04b90d   \n",
       "\n",
       "                                             node_id  \\\n",
       "0  MDY6Q29tbWl0MTUzNzIwODA0OjE2MzhlNTUwNmU2OTQ3Yj...   \n",
       "1  MDY6Q29tbWl0MTUzNzIwODA0OmYzMzJiNWU2ZmNlYTk2NW...   \n",
       "\n",
       "                                                 url  \\\n",
       "0  https://api.github.com/repos/ironhack-datalabs...   \n",
       "1  https://api.github.com/repos/ironhack-datalabs...   \n",
       "\n",
       "                                            html_url  \\\n",
       "0  https://github.com/ironhack-datalabs/mad-oct-2...   \n",
       "1  https://github.com/ironhack-datalabs/mad-oct-2...   \n",
       "\n",
       "                                        comments_url  \\\n",
       "0  https://api.github.com/repos/ironhack-datalabs...   \n",
       "1  https://api.github.com/repos/ironhack-datalabs...   \n",
       "\n",
       "                                             parents commit.author.name  \\\n",
       "0  [{'sha': 'f332b5e6fcea965dc80f62220d7ee1457b04...         Marc Pomar   \n",
       "1  [{'sha': '4c048c3efc18cf9d50e34c76919c8049ee7f...        ta-data-bcn   \n",
       "\n",
       "                             commit.author.email    commit.author.date  \\\n",
       "0                                marc@faable.com  2019-08-19T11:11:36Z   \n",
       "1  47005065+ta-data-bcn@users.noreply.github.com  2019-03-07T15:49:16Z   \n",
       "\n",
       "  commit.committer.name  ...  \\\n",
       "0            Marc Pomar  ...   \n",
       "1                GitHub  ...   \n",
       "\n",
       "                             committer.following_url  \\\n",
       "0  https://api.github.com/users/boyander/followin...   \n",
       "1  https://api.github.com/users/web-flow/followin...   \n",
       "\n",
       "                                 committer.gists_url  \\\n",
       "0  https://api.github.com/users/boyander/gists{/g...   \n",
       "1  https://api.github.com/users/web-flow/gists{/g...   \n",
       "\n",
       "                               committer.starred_url  \\\n",
       "0  https://api.github.com/users/boyander/starred{...   \n",
       "1  https://api.github.com/users/web-flow/starred{...   \n",
       "\n",
       "                         committer.subscriptions_url  \\\n",
       "0  https://api.github.com/users/boyander/subscrip...   \n",
       "1  https://api.github.com/users/web-flow/subscrip...   \n",
       "\n",
       "                  committer.organizations_url  \\\n",
       "0  https://api.github.com/users/boyander/orgs   \n",
       "1  https://api.github.com/users/web-flow/orgs   \n",
       "\n",
       "                           committer.repos_url  \\\n",
       "0  https://api.github.com/users/boyander/repos   \n",
       "1  https://api.github.com/users/web-flow/repos   \n",
       "\n",
       "                                committer.events_url  \\\n",
       "0  https://api.github.com/users/boyander/events{/...   \n",
       "1  https://api.github.com/users/web-flow/events{/...   \n",
       "\n",
       "                       committer.received_events_url committer.type  \\\n",
       "0  https://api.github.com/users/boyander/received...           User   \n",
       "1  https://api.github.com/users/web-flow/received...           User   \n",
       "\n",
       "  committer.site_admin  \n",
       "0                False  \n",
       "1                False  \n",
       "\n",
       "[2 rows x 57 columns]"
      ]
     },
     "execution_count": 338,
     "metadata": {},
     "output_type": "execute_result"
    }
   ],
   "source": [
    "df = response.json()\n",
    "df = json_normalize(df)\n",
    "df.head(2)"
   ]
  },
  {
   "cell_type": "markdown",
   "metadata": {},
   "source": [
    "#### Count how many commits were made in the past year."
   ]
  },
  {
   "cell_type": "code",
   "execution_count": 339,
   "metadata": {
    "ExecuteTime": {
     "end_time": "2020-02-08T21:05:39.941142Z",
     "start_time": "2020-02-08T21:05:39.929520Z"
    }
   },
   "outputs": [
    {
     "data": {
      "text/plain": [
       "30"
      ]
     },
     "execution_count": 339,
     "metadata": {},
     "output_type": "execute_result"
    }
   ],
   "source": [
    "num_commit=df['sha'].count()\n",
    "num_commit"
   ]
  },
  {
   "cell_type": "markdown",
   "metadata": {},
   "source": [
    "#### Count how many commit objects are contained in the array"
   ]
  },
  {
   "cell_type": "code",
   "execution_count": 340,
   "metadata": {
    "ExecuteTime": {
     "end_time": "2020-02-08T21:06:46.127691Z",
     "start_time": "2020-02-08T21:06:46.117811Z"
    }
   },
   "outputs": [
    {
     "data": {
      "text/plain": [
       "57"
      ]
     },
     "execution_count": 340,
     "metadata": {},
     "output_type": "execute_result"
    }
   ],
   "source": [
    "num_obj=len(df.columns)\n",
    "num_obj"
   ]
  },
  {
   "cell_type": "markdown",
   "metadata": {},
   "source": [
    "### Challenge 3: Hidden Cold Joke\n",
    "Using Python, call Github API to find out the cold joke contained in the 24 secret files in the following repo:\n",
    "\n",
    "https://github.com/ironhack-datalabs/scavenger\n",
    "\n",
    "The filenames of the secret files contain .scavengerhunt and they are scattered in different directories of this repo. The secret files are named from .0001.scavengerhunt to .0024.scavengerhunt. They are scattered randomly throughout this repo. You need to search for these files by calling the Github API, not searching the local files on your computer.\n",
    "\n",
    "Notes:\n",
    "\n",
    "Github API documentation can be found here.\n",
    "\n",
    "You will need to study the Github API documentation to decide which API endpoint to call and what parameters to use in order to obtain the information you need. Unless you are already super familiar with Github API or super lucky, you probably will do some trials and errors. Therefore, be prepared to go back and forth in studying the API documentation, testing, and revising until you obtain what you need.\n",
    "\n",
    "After receiving the JSON data object, you need to inspect its structure and decide how to parse the data.\n",
    "\n",
    "When you test your requests with Github API, sometimes you may be blocked by Github with an error message that reads:\n",
    "\n",
    "You have triggered an abuse detection mechanism and have been temporarily blocked from content creation. Please retry your request again later.\n",
    "\n",
    "Don't worry. Check the parameters in your request and wait for a minute or two before you make additional requests.\n",
    "\n",
    "After you find out the secrete files:\n",
    "\n",
    "Sort the filenames ascendingly.\n",
    "\n",
    "Read the content of each secret files into an array of strings.\n",
    "\n",
    "Concatenate the strings in the array separating each two with a whitespace.\n",
    "\n",
    "Print out the joke."
   ]
  },
  {
   "cell_type": "code",
   "execution_count": 303,
   "metadata": {
    "ExecuteTime": {
     "end_time": "2020-02-08T20:35:11.988169Z",
     "start_time": "2020-02-08T20:35:11.981282Z"
    }
   },
   "outputs": [],
   "source": [
    "url = 'https://api.github.com/repos/ironhack-datalabs/scavenger/contents'"
   ]
  },
  {
   "cell_type": "code",
   "execution_count": 304,
   "metadata": {
    "ExecuteTime": {
     "end_time": "2020-02-08T20:35:12.759614Z",
     "start_time": "2020-02-08T20:35:12.394642Z"
    }
   },
   "outputs": [
    {
     "data": {
      "text/plain": [
       "<Response [200]>"
      ]
     },
     "execution_count": 304,
     "metadata": {},
     "output_type": "execute_result"
    }
   ],
   "source": [
    "response = requests.get(url)\n",
    "response"
   ]
  },
  {
   "cell_type": "code",
   "execution_count": 329,
   "metadata": {
    "ExecuteTime": {
     "end_time": "2020-02-08T20:45:10.381358Z",
     "start_time": "2020-02-08T20:45:10.352559Z"
    }
   },
   "outputs": [
    {
     "data": {
      "text/html": [
       "<div>\n",
       "<style scoped>\n",
       "    .dataframe tbody tr th:only-of-type {\n",
       "        vertical-align: middle;\n",
       "    }\n",
       "\n",
       "    .dataframe tbody tr th {\n",
       "        vertical-align: top;\n",
       "    }\n",
       "\n",
       "    .dataframe thead th {\n",
       "        text-align: right;\n",
       "    }\n",
       "</style>\n",
       "<table border=\"1\" class=\"dataframe\">\n",
       "  <thead>\n",
       "    <tr style=\"text-align: right;\">\n",
       "      <th></th>\n",
       "      <th>name</th>\n",
       "      <th>path</th>\n",
       "      <th>sha</th>\n",
       "      <th>size</th>\n",
       "      <th>url</th>\n",
       "      <th>html_url</th>\n",
       "      <th>git_url</th>\n",
       "      <th>download_url</th>\n",
       "      <th>type</th>\n",
       "      <th>content</th>\n",
       "      <th>encoding</th>\n",
       "      <th>_links.self</th>\n",
       "      <th>_links.git</th>\n",
       "      <th>_links.html</th>\n",
       "    </tr>\n",
       "  </thead>\n",
       "  <tbody>\n",
       "    <tr>\n",
       "      <th>0</th>\n",
       "      <td>.0001.scavengerhunt</td>\n",
       "      <td>98750/.0001.scavengerhunt</td>\n",
       "      <td>2add7632f1323136324efbf38ec66db1838b6173</td>\n",
       "      <td>3</td>\n",
       "      <td>https://api.github.com/repos/ironhack-datalabs...</td>\n",
       "      <td>https://github.com/ironhack-datalabs/scavenger...</td>\n",
       "      <td>https://api.github.com/repos/ironhack-datalabs...</td>\n",
       "      <td>https://raw.githubusercontent.com/ironhack-dat...</td>\n",
       "      <td>file</td>\n",
       "      <td>SW4K\\n</td>\n",
       "      <td>base64</td>\n",
       "      <td>https://api.github.com/repos/ironhack-datalabs...</td>\n",
       "      <td>https://api.github.com/repos/ironhack-datalabs...</td>\n",
       "      <td>https://github.com/ironhack-datalabs/scavenger...</td>\n",
       "    </tr>\n",
       "  </tbody>\n",
       "</table>\n",
       "</div>"
      ],
      "text/plain": [
       "                  name                       path  \\\n",
       "0  .0001.scavengerhunt  98750/.0001.scavengerhunt   \n",
       "\n",
       "                                        sha  size  \\\n",
       "0  2add7632f1323136324efbf38ec66db1838b6173     3   \n",
       "\n",
       "                                                 url  \\\n",
       "0  https://api.github.com/repos/ironhack-datalabs...   \n",
       "\n",
       "                                            html_url  \\\n",
       "0  https://github.com/ironhack-datalabs/scavenger...   \n",
       "\n",
       "                                             git_url  \\\n",
       "0  https://api.github.com/repos/ironhack-datalabs...   \n",
       "\n",
       "                                        download_url  type content encoding  \\\n",
       "0  https://raw.githubusercontent.com/ironhack-dat...  file  SW4K\\n   base64   \n",
       "\n",
       "                                         _links.self  \\\n",
       "0  https://api.github.com/repos/ironhack-datalabs...   \n",
       "\n",
       "                                          _links.git  \\\n",
       "0  https://api.github.com/repos/ironhack-datalabs...   \n",
       "\n",
       "                                         _links.html  \n",
       "0  https://github.com/ironhack-datalabs/scavenger...  "
      ]
     },
     "execution_count": 329,
     "metadata": {},
     "output_type": "execute_result"
    }
   ],
   "source": [
    "df = response.json()\n",
    "df = json_normalize(df)\n",
    "\n",
    "df.head(2)"
   ]
  },
  {
   "cell_type": "code",
   "execution_count": 306,
   "metadata": {
    "ExecuteTime": {
     "end_time": "2020-02-08T20:35:21.329024Z",
     "start_time": "2020-02-08T20:35:21.321727Z"
    }
   },
   "outputs": [],
   "source": [
    "'''Creamos una lista con los paths de todas las carpetas que contiene el repositorio'''\n",
    "\n",
    "paths=[i for i in df['path']]"
   ]
  },
  {
   "cell_type": "code",
   "execution_count": 307,
   "metadata": {
    "ExecuteTime": {
     "end_time": "2020-02-08T20:35:34.642870Z",
     "start_time": "2020-02-08T20:35:25.581743Z"
    }
   },
   "outputs": [],
   "source": [
    "'''Hacemos un for loop para sacar todos los nombres de los ficheros que contiene cada una de las carpets'''\n",
    "\n",
    "files=pd.DataFrame()\n",
    "for path in paths:\n",
    "    url = f'https://api.github.com/repos/ironhack-datalabs/scavenger/contents/{path}'\n",
    "    response = requests.get(url)\n",
    "    df = response.json()\n",
    "    df = json_normalize(df)\n",
    "    files=files.append(df)\n",
    "    "
   ]
  },
  {
   "cell_type": "code",
   "execution_count": 313,
   "metadata": {
    "ExecuteTime": {
     "end_time": "2020-02-08T20:36:48.598384Z",
     "start_time": "2020-02-08T20:36:48.566866Z"
    }
   },
   "outputs": [
    {
     "data": {
      "text/html": [
       "<div>\n",
       "<style scoped>\n",
       "    .dataframe tbody tr th:only-of-type {\n",
       "        vertical-align: middle;\n",
       "    }\n",
       "\n",
       "    .dataframe tbody tr th {\n",
       "        vertical-align: top;\n",
       "    }\n",
       "\n",
       "    .dataframe thead th {\n",
       "        text-align: right;\n",
       "    }\n",
       "</style>\n",
       "<table border=\"1\" class=\"dataframe\">\n",
       "  <thead>\n",
       "    <tr style=\"text-align: right;\">\n",
       "      <th></th>\n",
       "      <th>_links.git</th>\n",
       "      <th>_links.html</th>\n",
       "      <th>_links.self</th>\n",
       "      <th>content</th>\n",
       "      <th>download_url</th>\n",
       "      <th>encoding</th>\n",
       "      <th>git_url</th>\n",
       "      <th>html_url</th>\n",
       "      <th>name</th>\n",
       "      <th>path</th>\n",
       "      <th>sha</th>\n",
       "      <th>size</th>\n",
       "      <th>type</th>\n",
       "      <th>url</th>\n",
       "    </tr>\n",
       "  </thead>\n",
       "  <tbody>\n",
       "    <tr>\n",
       "      <th>0</th>\n",
       "      <td>https://api.github.com/repos/ironhack-datalabs...</td>\n",
       "      <td>https://github.com/ironhack-datalabs/scavenger...</td>\n",
       "      <td>https://api.github.com/repos/ironhack-datalabs...</td>\n",
       "      <td>LkRTX1N0b3JlCg==\\n</td>\n",
       "      <td>https://raw.githubusercontent.com/ironhack-dat...</td>\n",
       "      <td>base64</td>\n",
       "      <td>https://api.github.com/repos/ironhack-datalabs...</td>\n",
       "      <td>https://github.com/ironhack-datalabs/scavenger...</td>\n",
       "      <td>.gitignore</td>\n",
       "      <td>.gitignore</td>\n",
       "      <td>e43b0f988953ae3a84b00331d0ccf5f7d51cb3cf</td>\n",
       "      <td>10</td>\n",
       "      <td>file</td>\n",
       "      <td>https://api.github.com/repos/ironhack-datalabs...</td>\n",
       "    </tr>\n",
       "    <tr>\n",
       "      <th>0</th>\n",
       "      <td>https://api.github.com/repos/ironhack-datalabs...</td>\n",
       "      <td>https://github.com/ironhack-datalabs/scavenger...</td>\n",
       "      <td>https://api.github.com/repos/ironhack-datalabs...</td>\n",
       "      <td>NaN</td>\n",
       "      <td>https://raw.githubusercontent.com/ironhack-dat...</td>\n",
       "      <td>NaN</td>\n",
       "      <td>https://api.github.com/repos/ironhack-datalabs...</td>\n",
       "      <td>https://github.com/ironhack-datalabs/scavenger...</td>\n",
       "      <td>.0006.scavengerhunt</td>\n",
       "      <td>15024/.0006.scavengerhunt</td>\n",
       "      <td>1c9064284a24b3486015eafdb391b141c27ada2b</td>\n",
       "      <td>3</td>\n",
       "      <td>file</td>\n",
       "      <td>https://api.github.com/repos/ironhack-datalabs...</td>\n",
       "    </tr>\n",
       "  </tbody>\n",
       "</table>\n",
       "</div>"
      ],
      "text/plain": [
       "                                          _links.git  \\\n",
       "0  https://api.github.com/repos/ironhack-datalabs...   \n",
       "0  https://api.github.com/repos/ironhack-datalabs...   \n",
       "\n",
       "                                         _links.html  \\\n",
       "0  https://github.com/ironhack-datalabs/scavenger...   \n",
       "0  https://github.com/ironhack-datalabs/scavenger...   \n",
       "\n",
       "                                         _links.self             content  \\\n",
       "0  https://api.github.com/repos/ironhack-datalabs...  LkRTX1N0b3JlCg==\\n   \n",
       "0  https://api.github.com/repos/ironhack-datalabs...                 NaN   \n",
       "\n",
       "                                        download_url encoding  \\\n",
       "0  https://raw.githubusercontent.com/ironhack-dat...   base64   \n",
       "0  https://raw.githubusercontent.com/ironhack-dat...      NaN   \n",
       "\n",
       "                                             git_url  \\\n",
       "0  https://api.github.com/repos/ironhack-datalabs...   \n",
       "0  https://api.github.com/repos/ironhack-datalabs...   \n",
       "\n",
       "                                            html_url                 name  \\\n",
       "0  https://github.com/ironhack-datalabs/scavenger...           .gitignore   \n",
       "0  https://github.com/ironhack-datalabs/scavenger...  .0006.scavengerhunt   \n",
       "\n",
       "                        path                                       sha  size  \\\n",
       "0                 .gitignore  e43b0f988953ae3a84b00331d0ccf5f7d51cb3cf    10   \n",
       "0  15024/.0006.scavengerhunt  1c9064284a24b3486015eafdb391b141c27ada2b     3   \n",
       "\n",
       "   type                                                url  \n",
       "0  file  https://api.github.com/repos/ironhack-datalabs...  \n",
       "0  file  https://api.github.com/repos/ironhack-datalabs...  "
      ]
     },
     "execution_count": 313,
     "metadata": {},
     "output_type": "execute_result"
    }
   ],
   "source": [
    "files.head(2)"
   ]
  },
  {
   "cell_type": "code",
   "execution_count": 312,
   "metadata": {
    "ExecuteTime": {
     "end_time": "2020-02-08T20:36:42.640958Z",
     "start_time": "2020-02-08T20:36:42.613265Z"
    }
   },
   "outputs": [
    {
     "data": {
      "text/html": [
       "<div>\n",
       "<style scoped>\n",
       "    .dataframe tbody tr th:only-of-type {\n",
       "        vertical-align: middle;\n",
       "    }\n",
       "\n",
       "    .dataframe tbody tr th {\n",
       "        vertical-align: top;\n",
       "    }\n",
       "\n",
       "    .dataframe thead th {\n",
       "        text-align: right;\n",
       "    }\n",
       "</style>\n",
       "<table border=\"1\" class=\"dataframe\">\n",
       "  <thead>\n",
       "    <tr style=\"text-align: right;\">\n",
       "      <th></th>\n",
       "      <th>_links.git</th>\n",
       "      <th>_links.html</th>\n",
       "      <th>_links.self</th>\n",
       "      <th>content</th>\n",
       "      <th>download_url</th>\n",
       "      <th>encoding</th>\n",
       "      <th>git_url</th>\n",
       "      <th>html_url</th>\n",
       "      <th>name</th>\n",
       "      <th>path</th>\n",
       "      <th>sha</th>\n",
       "      <th>size</th>\n",
       "      <th>type</th>\n",
       "      <th>url</th>\n",
       "    </tr>\n",
       "  </thead>\n",
       "  <tbody>\n",
       "    <tr>\n",
       "      <th>0</th>\n",
       "      <td>https://api.github.com/repos/ironhack-datalabs...</td>\n",
       "      <td>https://github.com/ironhack-datalabs/scavenger...</td>\n",
       "      <td>https://api.github.com/repos/ironhack-datalabs...</td>\n",
       "      <td>NaN</td>\n",
       "      <td>https://raw.githubusercontent.com/ironhack-dat...</td>\n",
       "      <td>NaN</td>\n",
       "      <td>https://api.github.com/repos/ironhack-datalabs...</td>\n",
       "      <td>https://github.com/ironhack-datalabs/scavenger...</td>\n",
       "      <td>.0006.scavengerhunt</td>\n",
       "      <td>15024/.0006.scavengerhunt</td>\n",
       "      <td>1c9064284a24b3486015eafdb391b141c27ada2b</td>\n",
       "      <td>3</td>\n",
       "      <td>file</td>\n",
       "      <td>https://api.github.com/repos/ironhack-datalabs...</td>\n",
       "    </tr>\n",
       "    <tr>\n",
       "      <th>0</th>\n",
       "      <td>https://api.github.com/repos/ironhack-datalabs...</td>\n",
       "      <td>https://github.com/ironhack-datalabs/scavenger...</td>\n",
       "      <td>https://api.github.com/repos/ironhack-datalabs...</td>\n",
       "      <td>NaN</td>\n",
       "      <td>https://raw.githubusercontent.com/ironhack-dat...</td>\n",
       "      <td>NaN</td>\n",
       "      <td>https://api.github.com/repos/ironhack-datalabs...</td>\n",
       "      <td>https://github.com/ironhack-datalabs/scavenger...</td>\n",
       "      <td>.0008.scavengerhunt</td>\n",
       "      <td>15534/.0008.scavengerhunt</td>\n",
       "      <td>e351fb73264581ce26504b97ef07daea35116f32</td>\n",
       "      <td>6</td>\n",
       "      <td>file</td>\n",
       "      <td>https://api.github.com/repos/ironhack-datalabs...</td>\n",
       "    </tr>\n",
       "  </tbody>\n",
       "</table>\n",
       "</div>"
      ],
      "text/plain": [
       "                                          _links.git  \\\n",
       "0  https://api.github.com/repos/ironhack-datalabs...   \n",
       "0  https://api.github.com/repos/ironhack-datalabs...   \n",
       "\n",
       "                                         _links.html  \\\n",
       "0  https://github.com/ironhack-datalabs/scavenger...   \n",
       "0  https://github.com/ironhack-datalabs/scavenger...   \n",
       "\n",
       "                                         _links.self content  \\\n",
       "0  https://api.github.com/repos/ironhack-datalabs...     NaN   \n",
       "0  https://api.github.com/repos/ironhack-datalabs...     NaN   \n",
       "\n",
       "                                        download_url encoding  \\\n",
       "0  https://raw.githubusercontent.com/ironhack-dat...      NaN   \n",
       "0  https://raw.githubusercontent.com/ironhack-dat...      NaN   \n",
       "\n",
       "                                             git_url  \\\n",
       "0  https://api.github.com/repos/ironhack-datalabs...   \n",
       "0  https://api.github.com/repos/ironhack-datalabs...   \n",
       "\n",
       "                                            html_url                 name  \\\n",
       "0  https://github.com/ironhack-datalabs/scavenger...  .0006.scavengerhunt   \n",
       "0  https://github.com/ironhack-datalabs/scavenger...  .0008.scavengerhunt   \n",
       "\n",
       "                        path                                       sha  size  \\\n",
       "0  15024/.0006.scavengerhunt  1c9064284a24b3486015eafdb391b141c27ada2b     3   \n",
       "0  15534/.0008.scavengerhunt  e351fb73264581ce26504b97ef07daea35116f32     6   \n",
       "\n",
       "   type                                                url  \n",
       "0  file  https://api.github.com/repos/ironhack-datalabs...  \n",
       "0  file  https://api.github.com/repos/ironhack-datalabs...  "
      ]
     },
     "execution_count": 312,
     "metadata": {},
     "output_type": "execute_result"
    }
   ],
   "source": [
    "'''Filtramos por aquellos ficheros que nos interesan que son los .scavenger'''\n",
    "\n",
    "scavenger_df=files[(files['name'].str.contains('scavenger'))]\n",
    "scavenger_df.head(2)"
   ]
  },
  {
   "cell_type": "code",
   "execution_count": 310,
   "metadata": {
    "ExecuteTime": {
     "end_time": "2020-02-08T20:36:09.353478Z",
     "start_time": "2020-02-08T20:35:59.347589Z"
    }
   },
   "outputs": [],
   "source": [
    "'''Hacemos los requests a la api con los paths de cada uno de estos ficheros'''\n",
    "\n",
    "df5=pd.DataFrame()\n",
    "for path in scavenger_df['path']:\n",
    "    url = f'https://api.github.com/repos/ironhack-datalabs/scavenger/contents/{path}'\n",
    "    response = requests.get(url)\n",
    "    df2 = response.json()\n",
    "    df2 = json_normalize(df2)\n",
    "    df5=df5.append(df2)"
   ]
  },
  {
   "cell_type": "code",
   "execution_count": 314,
   "metadata": {
    "ExecuteTime": {
     "end_time": "2020-02-08T20:36:57.322145Z",
     "start_time": "2020-02-08T20:36:57.291719Z"
    }
   },
   "outputs": [
    {
     "data": {
      "text/html": [
       "<div>\n",
       "<style scoped>\n",
       "    .dataframe tbody tr th:only-of-type {\n",
       "        vertical-align: middle;\n",
       "    }\n",
       "\n",
       "    .dataframe tbody tr th {\n",
       "        vertical-align: top;\n",
       "    }\n",
       "\n",
       "    .dataframe thead th {\n",
       "        text-align: right;\n",
       "    }\n",
       "</style>\n",
       "<table border=\"1\" class=\"dataframe\">\n",
       "  <thead>\n",
       "    <tr style=\"text-align: right;\">\n",
       "      <th></th>\n",
       "      <th>name</th>\n",
       "      <th>path</th>\n",
       "      <th>sha</th>\n",
       "      <th>size</th>\n",
       "      <th>url</th>\n",
       "      <th>html_url</th>\n",
       "      <th>git_url</th>\n",
       "      <th>download_url</th>\n",
       "      <th>type</th>\n",
       "      <th>content</th>\n",
       "      <th>encoding</th>\n",
       "      <th>_links.self</th>\n",
       "      <th>_links.git</th>\n",
       "      <th>_links.html</th>\n",
       "    </tr>\n",
       "  </thead>\n",
       "  <tbody>\n",
       "    <tr>\n",
       "      <th>0</th>\n",
       "      <td>.0006.scavengerhunt</td>\n",
       "      <td>15024/.0006.scavengerhunt</td>\n",
       "      <td>1c9064284a24b3486015eafdb391b141c27ada2b</td>\n",
       "      <td>3</td>\n",
       "      <td>https://api.github.com/repos/ironhack-datalabs...</td>\n",
       "      <td>https://github.com/ironhack-datalabs/scavenger...</td>\n",
       "      <td>https://api.github.com/repos/ironhack-datalabs...</td>\n",
       "      <td>https://raw.githubusercontent.com/ironhack-dat...</td>\n",
       "      <td>file</td>\n",
       "      <td>b2YK\\n</td>\n",
       "      <td>base64</td>\n",
       "      <td>https://api.github.com/repos/ironhack-datalabs...</td>\n",
       "      <td>https://api.github.com/repos/ironhack-datalabs...</td>\n",
       "      <td>https://github.com/ironhack-datalabs/scavenger...</td>\n",
       "    </tr>\n",
       "    <tr>\n",
       "      <th>0</th>\n",
       "      <td>.0008.scavengerhunt</td>\n",
       "      <td>15534/.0008.scavengerhunt</td>\n",
       "      <td>e351fb73264581ce26504b97ef07daea35116f32</td>\n",
       "      <td>6</td>\n",
       "      <td>https://api.github.com/repos/ironhack-datalabs...</td>\n",
       "      <td>https://github.com/ironhack-datalabs/scavenger...</td>\n",
       "      <td>https://api.github.com/repos/ironhack-datalabs...</td>\n",
       "      <td>https://raw.githubusercontent.com/ironhack-dat...</td>\n",
       "      <td>file</td>\n",
       "      <td>c3BlbnQK\\n</td>\n",
       "      <td>base64</td>\n",
       "      <td>https://api.github.com/repos/ironhack-datalabs...</td>\n",
       "      <td>https://api.github.com/repos/ironhack-datalabs...</td>\n",
       "      <td>https://github.com/ironhack-datalabs/scavenger...</td>\n",
       "    </tr>\n",
       "  </tbody>\n",
       "</table>\n",
       "</div>"
      ],
      "text/plain": [
       "                  name                       path  \\\n",
       "0  .0006.scavengerhunt  15024/.0006.scavengerhunt   \n",
       "0  .0008.scavengerhunt  15534/.0008.scavengerhunt   \n",
       "\n",
       "                                        sha  size  \\\n",
       "0  1c9064284a24b3486015eafdb391b141c27ada2b     3   \n",
       "0  e351fb73264581ce26504b97ef07daea35116f32     6   \n",
       "\n",
       "                                                 url  \\\n",
       "0  https://api.github.com/repos/ironhack-datalabs...   \n",
       "0  https://api.github.com/repos/ironhack-datalabs...   \n",
       "\n",
       "                                            html_url  \\\n",
       "0  https://github.com/ironhack-datalabs/scavenger...   \n",
       "0  https://github.com/ironhack-datalabs/scavenger...   \n",
       "\n",
       "                                             git_url  \\\n",
       "0  https://api.github.com/repos/ironhack-datalabs...   \n",
       "0  https://api.github.com/repos/ironhack-datalabs...   \n",
       "\n",
       "                                        download_url  type     content  \\\n",
       "0  https://raw.githubusercontent.com/ironhack-dat...  file      b2YK\\n   \n",
       "0  https://raw.githubusercontent.com/ironhack-dat...  file  c3BlbnQK\\n   \n",
       "\n",
       "  encoding                                        _links.self  \\\n",
       "0   base64  https://api.github.com/repos/ironhack-datalabs...   \n",
       "0   base64  https://api.github.com/repos/ironhack-datalabs...   \n",
       "\n",
       "                                          _links.git  \\\n",
       "0  https://api.github.com/repos/ironhack-datalabs...   \n",
       "0  https://api.github.com/repos/ironhack-datalabs...   \n",
       "\n",
       "                                         _links.html  \n",
       "0  https://github.com/ironhack-datalabs/scavenger...  \n",
       "0  https://github.com/ironhack-datalabs/scavenger...  "
      ]
     },
     "execution_count": 314,
     "metadata": {},
     "output_type": "execute_result"
    }
   ],
   "source": [
    "df5.head(2)"
   ]
  },
  {
   "cell_type": "code",
   "execution_count": 316,
   "metadata": {
    "ExecuteTime": {
     "end_time": "2020-02-08T20:37:27.513197Z",
     "start_time": "2020-02-08T20:37:27.463065Z"
    }
   },
   "outputs": [
    {
     "data": {
      "text/html": [
       "<div>\n",
       "<style scoped>\n",
       "    .dataframe tbody tr th:only-of-type {\n",
       "        vertical-align: middle;\n",
       "    }\n",
       "\n",
       "    .dataframe tbody tr th {\n",
       "        vertical-align: top;\n",
       "    }\n",
       "\n",
       "    .dataframe thead th {\n",
       "        text-align: right;\n",
       "    }\n",
       "</style>\n",
       "<table border=\"1\" class=\"dataframe\">\n",
       "  <thead>\n",
       "    <tr style=\"text-align: right;\">\n",
       "      <th></th>\n",
       "      <th>name</th>\n",
       "      <th>path</th>\n",
       "      <th>sha</th>\n",
       "      <th>size</th>\n",
       "      <th>url</th>\n",
       "      <th>html_url</th>\n",
       "      <th>git_url</th>\n",
       "      <th>download_url</th>\n",
       "      <th>type</th>\n",
       "      <th>content</th>\n",
       "      <th>encoding</th>\n",
       "      <th>_links.self</th>\n",
       "      <th>_links.git</th>\n",
       "      <th>_links.html</th>\n",
       "    </tr>\n",
       "  </thead>\n",
       "  <tbody>\n",
       "    <tr>\n",
       "      <th>0</th>\n",
       "      <td>.0001.scavengerhunt</td>\n",
       "      <td>98750/.0001.scavengerhunt</td>\n",
       "      <td>2add7632f1323136324efbf38ec66db1838b6173</td>\n",
       "      <td>3</td>\n",
       "      <td>https://api.github.com/repos/ironhack-datalabs...</td>\n",
       "      <td>https://github.com/ironhack-datalabs/scavenger...</td>\n",
       "      <td>https://api.github.com/repos/ironhack-datalabs...</td>\n",
       "      <td>https://raw.githubusercontent.com/ironhack-dat...</td>\n",
       "      <td>file</td>\n",
       "      <td>SW4K\\n</td>\n",
       "      <td>base64</td>\n",
       "      <td>https://api.github.com/repos/ironhack-datalabs...</td>\n",
       "      <td>https://api.github.com/repos/ironhack-datalabs...</td>\n",
       "      <td>https://github.com/ironhack-datalabs/scavenger...</td>\n",
       "    </tr>\n",
       "    <tr>\n",
       "      <th>0</th>\n",
       "      <td>.0002.scavengerhunt</td>\n",
       "      <td>88596/.0002.scavengerhunt</td>\n",
       "      <td>1269488f7fb1f4b56a8c0e5eb48cecbfadfa9219</td>\n",
       "      <td>5</td>\n",
       "      <td>https://api.github.com/repos/ironhack-datalabs...</td>\n",
       "      <td>https://github.com/ironhack-datalabs/scavenger...</td>\n",
       "      <td>https://api.github.com/repos/ironhack-datalabs...</td>\n",
       "      <td>https://raw.githubusercontent.com/ironhack-dat...</td>\n",
       "      <td>file</td>\n",
       "      <td>ZGF0YQo=\\n</td>\n",
       "      <td>base64</td>\n",
       "      <td>https://api.github.com/repos/ironhack-datalabs...</td>\n",
       "      <td>https://api.github.com/repos/ironhack-datalabs...</td>\n",
       "      <td>https://github.com/ironhack-datalabs/scavenger...</td>\n",
       "    </tr>\n",
       "  </tbody>\n",
       "</table>\n",
       "</div>"
      ],
      "text/plain": [
       "                  name                       path  \\\n",
       "0  .0001.scavengerhunt  98750/.0001.scavengerhunt   \n",
       "0  .0002.scavengerhunt  88596/.0002.scavengerhunt   \n",
       "\n",
       "                                        sha  size  \\\n",
       "0  2add7632f1323136324efbf38ec66db1838b6173     3   \n",
       "0  1269488f7fb1f4b56a8c0e5eb48cecbfadfa9219     5   \n",
       "\n",
       "                                                 url  \\\n",
       "0  https://api.github.com/repos/ironhack-datalabs...   \n",
       "0  https://api.github.com/repos/ironhack-datalabs...   \n",
       "\n",
       "                                            html_url  \\\n",
       "0  https://github.com/ironhack-datalabs/scavenger...   \n",
       "0  https://github.com/ironhack-datalabs/scavenger...   \n",
       "\n",
       "                                             git_url  \\\n",
       "0  https://api.github.com/repos/ironhack-datalabs...   \n",
       "0  https://api.github.com/repos/ironhack-datalabs...   \n",
       "\n",
       "                                        download_url  type     content  \\\n",
       "0  https://raw.githubusercontent.com/ironhack-dat...  file      SW4K\\n   \n",
       "0  https://raw.githubusercontent.com/ironhack-dat...  file  ZGF0YQo=\\n   \n",
       "\n",
       "  encoding                                        _links.self  \\\n",
       "0   base64  https://api.github.com/repos/ironhack-datalabs...   \n",
       "0   base64  https://api.github.com/repos/ironhack-datalabs...   \n",
       "\n",
       "                                          _links.git  \\\n",
       "0  https://api.github.com/repos/ironhack-datalabs...   \n",
       "0  https://api.github.com/repos/ironhack-datalabs...   \n",
       "\n",
       "                                         _links.html  \n",
       "0  https://github.com/ironhack-datalabs/scavenger...  \n",
       "0  https://github.com/ironhack-datalabs/scavenger...  "
      ]
     },
     "execution_count": 316,
     "metadata": {},
     "output_type": "execute_result"
    }
   ],
   "source": [
    "'''Ordenamos el DataFrame segun el nombre del fichero ya que eso nos dara el orden de la frase que buscamos'''\n",
    "\n",
    "df5=df5.sort_values(['name'],ascending=True)\n",
    "df5.head(2)"
   ]
  },
  {
   "cell_type": "code",
   "execution_count": 341,
   "metadata": {
    "ExecuteTime": {
     "end_time": "2020-02-08T21:11:54.425518Z",
     "start_time": "2020-02-08T21:11:54.410551Z"
    }
   },
   "outputs": [
    {
     "data": {
      "text/html": [
       "<div>\n",
       "<style scoped>\n",
       "    .dataframe tbody tr th:only-of-type {\n",
       "        vertical-align: middle;\n",
       "    }\n",
       "\n",
       "    .dataframe tbody tr th {\n",
       "        vertical-align: top;\n",
       "    }\n",
       "\n",
       "    .dataframe thead th {\n",
       "        text-align: right;\n",
       "    }\n",
       "</style>\n",
       "<table border=\"1\" class=\"dataframe\">\n",
       "  <thead>\n",
       "    <tr style=\"text-align: right;\">\n",
       "      <th></th>\n",
       "      <th>name</th>\n",
       "      <th>content</th>\n",
       "      <th>encoding</th>\n",
       "    </tr>\n",
       "  </thead>\n",
       "  <tbody>\n",
       "    <tr>\n",
       "      <th>0</th>\n",
       "      <td>.0001.scavengerhunt</td>\n",
       "      <td>SW4K\\n</td>\n",
       "      <td>base64</td>\n",
       "    </tr>\n",
       "    <tr>\n",
       "      <th>0</th>\n",
       "      <td>.0002.scavengerhunt</td>\n",
       "      <td>ZGF0YQo=\\n</td>\n",
       "      <td>base64</td>\n",
       "    </tr>\n",
       "    <tr>\n",
       "      <th>0</th>\n",
       "      <td>.0003.scavengerhunt</td>\n",
       "      <td>c2NpZW5jZSwK\\n</td>\n",
       "      <td>base64</td>\n",
       "    </tr>\n",
       "    <tr>\n",
       "      <th>0</th>\n",
       "      <td>.0004.scavengerhunt</td>\n",
       "      <td>ODAK\\n</td>\n",
       "      <td>base64</td>\n",
       "    </tr>\n",
       "    <tr>\n",
       "      <th>0</th>\n",
       "      <td>.0005.scavengerhunt</td>\n",
       "      <td>cGVyY2VudAo=\\n</td>\n",
       "      <td>base64</td>\n",
       "    </tr>\n",
       "  </tbody>\n",
       "</table>\n",
       "</div>"
      ],
      "text/plain": [
       "                  name         content encoding\n",
       "0  .0001.scavengerhunt          SW4K\\n   base64\n",
       "0  .0002.scavengerhunt      ZGF0YQo=\\n   base64\n",
       "0  .0003.scavengerhunt  c2NpZW5jZSwK\\n   base64\n",
       "0  .0004.scavengerhunt          ODAK\\n   base64\n",
       "0  .0005.scavengerhunt  cGVyY2VudAo=\\n   base64"
      ]
     },
     "execution_count": 341,
     "metadata": {},
     "output_type": "execute_result"
    }
   ],
   "source": [
    "'''Creamos una variable que contiene solo el nombre del fichero y su contenido.\n",
    "Vemos que el contenido esta codificado, añadimos la columna encoding para ver como decodificarlo '''\n",
    "\n",
    "x=df5[['name','content','encoding']]\n",
    "x.head(5)"
   ]
  },
  {
   "cell_type": "code",
   "execution_count": 343,
   "metadata": {
    "ExecuteTime": {
     "end_time": "2020-02-08T21:12:33.597139Z",
     "start_time": "2020-02-08T21:12:33.587381Z"
    }
   },
   "outputs": [
    {
     "data": {
      "text/plain": [
       "'In data science, 80 percent of time spent is preparing data, 20 percent of time is spent complaining about the need to prepare data.'"
      ]
     },
     "execution_count": 343,
     "metadata": {},
     "output_type": "execute_result"
    }
   ],
   "source": [
    "'''Finalmente hacemos la decodificacion, eliminamos los saltos de linea y lo unificamos todo en una misma string'''\n",
    "\n",
    "\" \".join([base64.b64decode(i).decode(\"utf-8\").rstrip('\\n') for i in df5['content']])\n"
   ]
  },
  {
   "cell_type": "code",
   "execution_count": 302,
   "metadata": {
    "ExecuteTime": {
     "end_time": "2020-02-08T20:34:53.718891Z",
     "start_time": "2020-02-08T20:34:53.714894Z"
    }
   },
   "outputs": [],
   "source": []
  }
 ],
 "metadata": {
  "kernelspec": {
   "display_name": "Python 3",
   "language": "python",
   "name": "python3"
  },
  "language_info": {
   "codemirror_mode": {
    "name": "ipython",
    "version": 3
   },
   "file_extension": ".py",
   "mimetype": "text/x-python",
   "name": "python",
   "nbconvert_exporter": "python",
   "pygments_lexer": "ipython3",
   "version": "3.7.4"
  },
  "varInspector": {
   "cols": {
    "lenName": 16,
    "lenType": 16,
    "lenVar": 40
   },
   "kernels_config": {
    "python": {
     "delete_cmd_postfix": "",
     "delete_cmd_prefix": "del ",
     "library": "var_list.py",
     "varRefreshCmd": "print(var_dic_list())"
    },
    "r": {
     "delete_cmd_postfix": ") ",
     "delete_cmd_prefix": "rm(",
     "library": "var_list.r",
     "varRefreshCmd": "cat(var_dic_list()) "
    }
   },
   "types_to_exclude": [
    "module",
    "function",
    "builtin_function_or_method",
    "instance",
    "_Feature"
   ],
   "window_display": false
  }
 },
 "nbformat": 4,
 "nbformat_minor": 2
}
