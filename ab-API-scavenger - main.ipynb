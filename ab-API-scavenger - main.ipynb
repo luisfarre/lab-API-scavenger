{
 "cells": [
  {
   "cell_type": "code",
   "execution_count": 3,
   "metadata": {
    "ExecuteTime": {
     "end_time": "2020-02-08T17:50:57.666079Z",
     "start_time": "2020-02-08T17:50:57.661253Z"
    }
   },
   "outputs": [],
   "source": [
    "import json\n",
    "import requests\n",
    "import pandas as pd\n",
    "\n",
    "from pandas.io.json import json_normalize"
   ]
  },
  {
   "cell_type": "markdown",
   "metadata": {
    "ExecuteTime": {
     "end_time": "2020-02-08T17:50:41.842726Z",
     "start_time": "2020-02-08T17:50:41.821775Z"
    }
   },
   "source": [
    "### Challenge 1: \n",
    "\n",
    "Fork Languages\n",
    "You will find out how many programming languages are used among all the forks created from the main lab repo of your bootcamp. Assuming the main lab repo is ironhack-datalabs/madrid-oct-2018, you will:\n",
    "\n",
    "Obtain the full list of forks created from the main lab repo via Github API.\n",
    "\n",
    "Loop the JSON response to find out the language attribute of each fork. Use an array to store the language attributes of each fork.\n",
    "\n",
    "Hint: Each language should appear only once in your array.\n",
    "Print the language array. It should be something like:\n",
    "\n",
    "[\"Python\", \"Jupyter Notebook\", \"HTML\"]\n",
    "\n",
    "Again, the documentation of Github API is here."
   ]
  },
  {
   "cell_type": "code",
   "execution_count": 26,
   "metadata": {
    "ExecuteTime": {
     "end_time": "2020-02-08T18:04:45.977663Z",
     "start_time": "2020-02-08T18:04:45.426216Z"
    }
   },
   "outputs": [],
   "source": [
    "url = 'https://api.github.com/repos/ironhack-datalabs/mad-oct-2018/forks'\n",
    "response = requests.get(url)\n",
    "result = response.json()\n",
    "#result[0]['language']\n",
    "x=[i['language'] for i in result ]\n"
   ]
  },
  {
   "cell_type": "code",
   "execution_count": 27,
   "metadata": {
    "ExecuteTime": {
     "end_time": "2020-02-08T18:04:46.951001Z",
     "start_time": "2020-02-08T18:04:46.940264Z"
    }
   },
   "outputs": [
    {
     "data": {
      "text/plain": [
       "[None, 'Python', 'Jupyter Notebook', 'HTML']"
      ]
     },
     "execution_count": 27,
     "metadata": {},
     "output_type": "execute_result"
    }
   ],
   "source": [
    "languages=list(set(x))\n",
    "languages"
   ]
  },
  {
   "cell_type": "code",
   "execution_count": 28,
   "metadata": {
    "ExecuteTime": {
     "end_time": "2020-02-08T18:04:47.747452Z",
     "start_time": "2020-02-08T18:04:47.737361Z"
    }
   },
   "outputs": [
    {
     "data": {
      "text/plain": [
       "['Python', 'Jupyter Notebook', 'HTML']"
      ]
     },
     "execution_count": 28,
     "metadata": {},
     "output_type": "execute_result"
    }
   ],
   "source": [
    "languages.remove(None)\n",
    "languages"
   ]
  },
  {
   "cell_type": "markdown",
   "metadata": {},
   "source": [
    "### Challenge 2: \n",
    "Count Commits\n",
    "\n",
    "Count how many commits were made in the past week.\n",
    "\n",
    "Obtain all the commits made in the past week via API, which is a JSON array that contains multiple commit objects.\n",
    "\n",
    "Count how many commit objects are contained in the array."
   ]
  },
  {
   "cell_type": "code",
   "execution_count": 64,
   "metadata": {
    "ExecuteTime": {
     "end_time": "2020-02-08T18:22:11.299342Z",
     "start_time": "2020-02-08T18:22:11.294024Z"
    }
   },
   "outputs": [],
   "source": [
    "#En la ultima semana no hay ningun commit, he sacado desde el 1 de enero de 2019\n",
    "url = 'https://api.github.com/repos/ironhack-datalabs/mad-oct-2018/commits?since=2019-01-01T10:00:00Z'\n"
   ]
  },
  {
   "cell_type": "code",
   "execution_count": 65,
   "metadata": {
    "ExecuteTime": {
     "end_time": "2020-02-08T18:22:12.481984Z",
     "start_time": "2020-02-08T18:22:12.019698Z"
    }
   },
   "outputs": [
    {
     "data": {
      "text/plain": [
       "<Response [200]>"
      ]
     },
     "execution_count": 65,
     "metadata": {},
     "output_type": "execute_result"
    }
   ],
   "source": [
    "response = requests.get(url)\n",
    "response"
   ]
  },
  {
   "cell_type": "code",
   "execution_count": 68,
   "metadata": {
    "ExecuteTime": {
     "end_time": "2020-02-08T18:22:24.429030Z",
     "start_time": "2020-02-08T18:22:24.357531Z"
    }
   },
   "outputs": [
    {
     "data": {
      "text/html": [
       "<div>\n",
       "<style scoped>\n",
       "    .dataframe tbody tr th:only-of-type {\n",
       "        vertical-align: middle;\n",
       "    }\n",
       "\n",
       "    .dataframe tbody tr th {\n",
       "        vertical-align: top;\n",
       "    }\n",
       "\n",
       "    .dataframe thead th {\n",
       "        text-align: right;\n",
       "    }\n",
       "</style>\n",
       "<table border=\"1\" class=\"dataframe\">\n",
       "  <thead>\n",
       "    <tr style=\"text-align: right;\">\n",
       "      <th></th>\n",
       "      <th>sha</th>\n",
       "      <th>node_id</th>\n",
       "      <th>url</th>\n",
       "      <th>html_url</th>\n",
       "      <th>comments_url</th>\n",
       "      <th>parents</th>\n",
       "      <th>commit.author.name</th>\n",
       "      <th>commit.author.email</th>\n",
       "      <th>commit.author.date</th>\n",
       "      <th>commit.committer.name</th>\n",
       "      <th>...</th>\n",
       "      <th>committer.following_url</th>\n",
       "      <th>committer.gists_url</th>\n",
       "      <th>committer.starred_url</th>\n",
       "      <th>committer.subscriptions_url</th>\n",
       "      <th>committer.organizations_url</th>\n",
       "      <th>committer.repos_url</th>\n",
       "      <th>committer.events_url</th>\n",
       "      <th>committer.received_events_url</th>\n",
       "      <th>committer.type</th>\n",
       "      <th>committer.site_admin</th>\n",
       "    </tr>\n",
       "  </thead>\n",
       "  <tbody>\n",
       "    <tr>\n",
       "      <th>0</th>\n",
       "      <td>1638e5506e6947b77bfe78761d345476ae80d017</td>\n",
       "      <td>MDY6Q29tbWl0MTUzNzIwODA0OjE2MzhlNTUwNmU2OTQ3Yj...</td>\n",
       "      <td>https://api.github.com/repos/ironhack-datalabs...</td>\n",
       "      <td>https://github.com/ironhack-datalabs/mad-oct-2...</td>\n",
       "      <td>https://api.github.com/repos/ironhack-datalabs...</td>\n",
       "      <td>[{'sha': 'f332b5e6fcea965dc80f62220d7ee1457b04...</td>\n",
       "      <td>Marc Pomar</td>\n",
       "      <td>marc@faable.com</td>\n",
       "      <td>2019-08-19T11:11:36Z</td>\n",
       "      <td>Marc Pomar</td>\n",
       "      <td>...</td>\n",
       "      <td>https://api.github.com/users/boyander/followin...</td>\n",
       "      <td>https://api.github.com/users/boyander/gists{/g...</td>\n",
       "      <td>https://api.github.com/users/boyander/starred{...</td>\n",
       "      <td>https://api.github.com/users/boyander/subscrip...</td>\n",
       "      <td>https://api.github.com/users/boyander/orgs</td>\n",
       "      <td>https://api.github.com/users/boyander/repos</td>\n",
       "      <td>https://api.github.com/users/boyander/events{/...</td>\n",
       "      <td>https://api.github.com/users/boyander/received...</td>\n",
       "      <td>User</td>\n",
       "      <td>False</td>\n",
       "    </tr>\n",
       "    <tr>\n",
       "      <th>1</th>\n",
       "      <td>f332b5e6fcea965dc80f62220d7ee1457b04b90d</td>\n",
       "      <td>MDY6Q29tbWl0MTUzNzIwODA0OmYzMzJiNWU2ZmNlYTk2NW...</td>\n",
       "      <td>https://api.github.com/repos/ironhack-datalabs...</td>\n",
       "      <td>https://github.com/ironhack-datalabs/mad-oct-2...</td>\n",
       "      <td>https://api.github.com/repos/ironhack-datalabs...</td>\n",
       "      <td>[{'sha': '4c048c3efc18cf9d50e34c76919c8049ee7f...</td>\n",
       "      <td>ta-data-bcn</td>\n",
       "      <td>47005065+ta-data-bcn@users.noreply.github.com</td>\n",
       "      <td>2019-03-07T15:49:16Z</td>\n",
       "      <td>GitHub</td>\n",
       "      <td>...</td>\n",
       "      <td>https://api.github.com/users/web-flow/followin...</td>\n",
       "      <td>https://api.github.com/users/web-flow/gists{/g...</td>\n",
       "      <td>https://api.github.com/users/web-flow/starred{...</td>\n",
       "      <td>https://api.github.com/users/web-flow/subscrip...</td>\n",
       "      <td>https://api.github.com/users/web-flow/orgs</td>\n",
       "      <td>https://api.github.com/users/web-flow/repos</td>\n",
       "      <td>https://api.github.com/users/web-flow/events{/...</td>\n",
       "      <td>https://api.github.com/users/web-flow/received...</td>\n",
       "      <td>User</td>\n",
       "      <td>False</td>\n",
       "    </tr>\n",
       "  </tbody>\n",
       "</table>\n",
       "<p>2 rows × 57 columns</p>\n",
       "</div>"
      ],
      "text/plain": [
       "                                        sha  \\\n",
       "0  1638e5506e6947b77bfe78761d345476ae80d017   \n",
       "1  f332b5e6fcea965dc80f62220d7ee1457b04b90d   \n",
       "\n",
       "                                             node_id  \\\n",
       "0  MDY6Q29tbWl0MTUzNzIwODA0OjE2MzhlNTUwNmU2OTQ3Yj...   \n",
       "1  MDY6Q29tbWl0MTUzNzIwODA0OmYzMzJiNWU2ZmNlYTk2NW...   \n",
       "\n",
       "                                                 url  \\\n",
       "0  https://api.github.com/repos/ironhack-datalabs...   \n",
       "1  https://api.github.com/repos/ironhack-datalabs...   \n",
       "\n",
       "                                            html_url  \\\n",
       "0  https://github.com/ironhack-datalabs/mad-oct-2...   \n",
       "1  https://github.com/ironhack-datalabs/mad-oct-2...   \n",
       "\n",
       "                                        comments_url  \\\n",
       "0  https://api.github.com/repos/ironhack-datalabs...   \n",
       "1  https://api.github.com/repos/ironhack-datalabs...   \n",
       "\n",
       "                                             parents commit.author.name  \\\n",
       "0  [{'sha': 'f332b5e6fcea965dc80f62220d7ee1457b04...         Marc Pomar   \n",
       "1  [{'sha': '4c048c3efc18cf9d50e34c76919c8049ee7f...        ta-data-bcn   \n",
       "\n",
       "                             commit.author.email    commit.author.date  \\\n",
       "0                                marc@faable.com  2019-08-19T11:11:36Z   \n",
       "1  47005065+ta-data-bcn@users.noreply.github.com  2019-03-07T15:49:16Z   \n",
       "\n",
       "  commit.committer.name  ...  \\\n",
       "0            Marc Pomar  ...   \n",
       "1                GitHub  ...   \n",
       "\n",
       "                             committer.following_url  \\\n",
       "0  https://api.github.com/users/boyander/followin...   \n",
       "1  https://api.github.com/users/web-flow/followin...   \n",
       "\n",
       "                                 committer.gists_url  \\\n",
       "0  https://api.github.com/users/boyander/gists{/g...   \n",
       "1  https://api.github.com/users/web-flow/gists{/g...   \n",
       "\n",
       "                               committer.starred_url  \\\n",
       "0  https://api.github.com/users/boyander/starred{...   \n",
       "1  https://api.github.com/users/web-flow/starred{...   \n",
       "\n",
       "                         committer.subscriptions_url  \\\n",
       "0  https://api.github.com/users/boyander/subscrip...   \n",
       "1  https://api.github.com/users/web-flow/subscrip...   \n",
       "\n",
       "                  committer.organizations_url  \\\n",
       "0  https://api.github.com/users/boyander/orgs   \n",
       "1  https://api.github.com/users/web-flow/orgs   \n",
       "\n",
       "                           committer.repos_url  \\\n",
       "0  https://api.github.com/users/boyander/repos   \n",
       "1  https://api.github.com/users/web-flow/repos   \n",
       "\n",
       "                                committer.events_url  \\\n",
       "0  https://api.github.com/users/boyander/events{/...   \n",
       "1  https://api.github.com/users/web-flow/events{/...   \n",
       "\n",
       "                       committer.received_events_url committer.type  \\\n",
       "0  https://api.github.com/users/boyander/received...           User   \n",
       "1  https://api.github.com/users/web-flow/received...           User   \n",
       "\n",
       "  committer.site_admin  \n",
       "0                False  \n",
       "1                False  \n",
       "\n",
       "[2 rows x 57 columns]"
      ]
     },
     "execution_count": 68,
     "metadata": {},
     "output_type": "execute_result"
    }
   ],
   "source": [
    "df = response.json()\n",
    "df = json_normalize(df)\n",
    "df.head(2)"
   ]
  },
  {
   "cell_type": "code",
   "execution_count": 71,
   "metadata": {
    "ExecuteTime": {
     "end_time": "2020-02-08T18:24:32.991521Z",
     "start_time": "2020-02-08T18:24:32.981753Z"
    }
   },
   "outputs": [
    {
     "data": {
      "text/plain": [
       "30"
      ]
     },
     "execution_count": 71,
     "metadata": {},
     "output_type": "execute_result"
    }
   ],
   "source": [
    "num_commit=df['sha'].count()\n",
    "num_commit"
   ]
  },
  {
   "cell_type": "code",
   "execution_count": 76,
   "metadata": {
    "ExecuteTime": {
     "end_time": "2020-02-08T18:25:41.897639Z",
     "start_time": "2020-02-08T18:25:41.888962Z"
    }
   },
   "outputs": [
    {
     "data": {
      "text/plain": [
       "57"
      ]
     },
     "execution_count": 76,
     "metadata": {},
     "output_type": "execute_result"
    }
   ],
   "source": [
    "num_obj=len(df.columns)\n",
    "num_obj"
   ]
  },
  {
   "cell_type": "markdown",
   "metadata": {},
   "source": [
    "### Challenge 3: Hidden Cold Joke\n",
    "Using Python, call Github API to find out the cold joke contained in the 24 secret files in the following repo:\n",
    "\n",
    "https://github.com/ironhack-datalabs/scavenger\n",
    "\n",
    "The filenames of the secret files contain .scavengerhunt and they are scattered in different directories of this repo. The secret files are named from .0001.scavengerhunt to .0024.scavengerhunt. They are scattered randomly throughout this repo. You need to search for these files by calling the Github API, not searching the local files on your computer.\n",
    "\n",
    "Notes:\n",
    "\n",
    "Github API documentation can be found here.\n",
    "\n",
    "You will need to study the Github API documentation to decide which API endpoint to call and what parameters to use in order to obtain the information you need. Unless you are already super familiar with Github API or super lucky, you probably will do some trials and errors. Therefore, be prepared to go back and forth in studying the API documentation, testing, and revising until you obtain what you need.\n",
    "\n",
    "After receiving the JSON data object, you need to inspect its structure and decide how to parse the data.\n",
    "\n",
    "When you test your requests with Github API, sometimes you may be blocked by Github with an error message that reads:\n",
    "\n",
    "You have triggered an abuse detection mechanism and have been temporarily blocked from content creation. Please retry your request again later.\n",
    "\n",
    "Don't worry. Check the parameters in your request and wait for a minute or two before you make additional requests.\n",
    "\n",
    "After you find out the secrete files:\n",
    "\n",
    "Sort the filenames ascendingly.\n",
    "\n",
    "Read the content of each secret files into an array of strings.\n",
    "\n",
    "Concatenate the strings in the array separating each two with a whitespace.\n",
    "\n",
    "Print out the joke."
   ]
  },
  {
   "cell_type": "code",
   "execution_count": 169,
   "metadata": {
    "ExecuteTime": {
     "end_time": "2020-02-08T19:12:02.890467Z",
     "start_time": "2020-02-08T19:12:02.885261Z"
    }
   },
   "outputs": [],
   "source": [
    "url = 'https://api.github.com/repos/ironhack-datalabs/scavenger/contents'"
   ]
  },
  {
   "cell_type": "code",
   "execution_count": 156,
   "metadata": {
    "ExecuteTime": {
     "end_time": "2020-02-08T19:07:42.346984Z",
     "start_time": "2020-02-08T19:07:41.989063Z"
    }
   },
   "outputs": [
    {
     "data": {
      "text/plain": [
       "<Response [200]>"
      ]
     },
     "execution_count": 156,
     "metadata": {},
     "output_type": "execute_result"
    }
   ],
   "source": [
    "response = requests.get(url)\n",
    "response"
   ]
  },
  {
   "cell_type": "code",
   "execution_count": 170,
   "metadata": {
    "ExecuteTime": {
     "end_time": "2020-02-08T19:12:07.336815Z",
     "start_time": "2020-02-08T19:12:07.324790Z"
    }
   },
   "outputs": [],
   "source": [
    "df = response.json()\n",
    "df = json_normalize(df)\n",
    "paths=[i for i in df['path']]"
   ]
  },
  {
   "cell_type": "code",
   "execution_count": 167,
   "metadata": {
    "ExecuteTime": {
     "end_time": "2020-02-08T19:11:38.131921Z",
     "start_time": "2020-02-08T19:11:26.167209Z"
    }
   },
   "outputs": [],
   "source": [
    "files=pd.DataFrame()\n",
    "for path in paths:\n",
    "    url = f'https://api.github.com/repos/ironhack-datalabs/scavenger/contents/{path}'\n",
    "    df = requests.get(url).json()\n",
    "    df = json_normalize(df)\n",
    "    files=files.append(df)\n",
    "    "
   ]
  },
  {
   "cell_type": "code",
   "execution_count": 168,
   "metadata": {
    "ExecuteTime": {
     "end_time": "2020-02-08T19:11:38.237601Z",
     "start_time": "2020-02-08T19:11:38.212213Z"
    }
   },
   "outputs": [
    {
     "data": {
      "text/html": [
       "<div>\n",
       "<style scoped>\n",
       "    .dataframe tbody tr th:only-of-type {\n",
       "        vertical-align: middle;\n",
       "    }\n",
       "\n",
       "    .dataframe tbody tr th {\n",
       "        vertical-align: top;\n",
       "    }\n",
       "\n",
       "    .dataframe thead th {\n",
       "        text-align: right;\n",
       "    }\n",
       "</style>\n",
       "<table border=\"1\" class=\"dataframe\">\n",
       "  <thead>\n",
       "    <tr style=\"text-align: right;\">\n",
       "      <th></th>\n",
       "      <th>message</th>\n",
       "      <th>documentation_url</th>\n",
       "    </tr>\n",
       "  </thead>\n",
       "  <tbody>\n",
       "    <tr>\n",
       "      <th>0</th>\n",
       "      <td>API rate limit exceeded for 79.150.29.235. (Bu...</td>\n",
       "      <td>https://developer.github.com/v3/#rate-limiting</td>\n",
       "    </tr>\n",
       "    <tr>\n",
       "      <th>0</th>\n",
       "      <td>API rate limit exceeded for 79.150.29.235. (Bu...</td>\n",
       "      <td>https://developer.github.com/v3/#rate-limiting</td>\n",
       "    </tr>\n",
       "  </tbody>\n",
       "</table>\n",
       "</div>"
      ],
      "text/plain": [
       "                                             message  \\\n",
       "0  API rate limit exceeded for 79.150.29.235. (Bu...   \n",
       "0  API rate limit exceeded for 79.150.29.235. (Bu...   \n",
       "\n",
       "                                documentation_url  \n",
       "0  https://developer.github.com/v3/#rate-limiting  \n",
       "0  https://developer.github.com/v3/#rate-limiting  "
      ]
     },
     "execution_count": 168,
     "metadata": {},
     "output_type": "execute_result"
    }
   ],
   "source": [
    "files.head(2)"
   ]
  },
  {
   "cell_type": "code",
   "execution_count": 159,
   "metadata": {
    "ExecuteTime": {
     "end_time": "2020-02-08T19:09:23.327570Z",
     "start_time": "2020-02-08T19:09:23.260251Z"
    }
   },
   "outputs": [
    {
     "ename": "KeyError",
     "evalue": "'name'",
     "output_type": "error",
     "traceback": [
      "\u001b[0;31m---------------------------------------------------------------------------\u001b[0m",
      "\u001b[0;31mKeyError\u001b[0m                                  Traceback (most recent call last)",
      "\u001b[0;32m/usr/local/lib/python3.7/site-packages/pandas/core/indexes/base.py\u001b[0m in \u001b[0;36mget_loc\u001b[0;34m(self, key, method, tolerance)\u001b[0m\n\u001b[1;32m   2896\u001b[0m             \u001b[0;32mtry\u001b[0m\u001b[0;34m:\u001b[0m\u001b[0;34m\u001b[0m\u001b[0;34m\u001b[0m\u001b[0m\n\u001b[0;32m-> 2897\u001b[0;31m                 \u001b[0;32mreturn\u001b[0m \u001b[0mself\u001b[0m\u001b[0;34m.\u001b[0m\u001b[0m_engine\u001b[0m\u001b[0;34m.\u001b[0m\u001b[0mget_loc\u001b[0m\u001b[0;34m(\u001b[0m\u001b[0mkey\u001b[0m\u001b[0;34m)\u001b[0m\u001b[0;34m\u001b[0m\u001b[0;34m\u001b[0m\u001b[0m\n\u001b[0m\u001b[1;32m   2898\u001b[0m             \u001b[0;32mexcept\u001b[0m \u001b[0mKeyError\u001b[0m\u001b[0;34m:\u001b[0m\u001b[0;34m\u001b[0m\u001b[0;34m\u001b[0m\u001b[0m\n",
      "\u001b[0;32mpandas/_libs/index.pyx\u001b[0m in \u001b[0;36mpandas._libs.index.IndexEngine.get_loc\u001b[0;34m()\u001b[0m\n",
      "\u001b[0;32mpandas/_libs/index.pyx\u001b[0m in \u001b[0;36mpandas._libs.index.IndexEngine.get_loc\u001b[0;34m()\u001b[0m\n",
      "\u001b[0;32mpandas/_libs/hashtable_class_helper.pxi\u001b[0m in \u001b[0;36mpandas._libs.hashtable.PyObjectHashTable.get_item\u001b[0;34m()\u001b[0m\n",
      "\u001b[0;32mpandas/_libs/hashtable_class_helper.pxi\u001b[0m in \u001b[0;36mpandas._libs.hashtable.PyObjectHashTable.get_item\u001b[0;34m()\u001b[0m\n",
      "\u001b[0;31mKeyError\u001b[0m: 'name'",
      "\nDuring handling of the above exception, another exception occurred:\n",
      "\u001b[0;31mKeyError\u001b[0m                                  Traceback (most recent call last)",
      "\u001b[0;32m<ipython-input-159-58b47a173cd8>\u001b[0m in \u001b[0;36m<module>\u001b[0;34m\u001b[0m\n\u001b[0;32m----> 1\u001b[0;31m \u001b[0mscavenger_df\u001b[0m\u001b[0;34m=\u001b[0m\u001b[0mfiles\u001b[0m\u001b[0;34m[\u001b[0m\u001b[0;34m(\u001b[0m\u001b[0mfiles\u001b[0m\u001b[0;34m[\u001b[0m\u001b[0;34m'name'\u001b[0m\u001b[0;34m]\u001b[0m\u001b[0;34m.\u001b[0m\u001b[0mcontains\u001b[0m\u001b[0;34m(\u001b[0m\u001b[0;34m'scavenger'\u001b[0m\u001b[0;34m)\u001b[0m\u001b[0;34m)\u001b[0m\u001b[0;34m]\u001b[0m\u001b[0;34m\u001b[0m\u001b[0;34m\u001b[0m\u001b[0m\n\u001b[0m",
      "\u001b[0;32m/usr/local/lib/python3.7/site-packages/pandas/core/frame.py\u001b[0m in \u001b[0;36m__getitem__\u001b[0;34m(self, key)\u001b[0m\n\u001b[1;32m   2993\u001b[0m             \u001b[0;32mif\u001b[0m \u001b[0mself\u001b[0m\u001b[0;34m.\u001b[0m\u001b[0mcolumns\u001b[0m\u001b[0;34m.\u001b[0m\u001b[0mnlevels\u001b[0m \u001b[0;34m>\u001b[0m \u001b[0;36m1\u001b[0m\u001b[0;34m:\u001b[0m\u001b[0;34m\u001b[0m\u001b[0;34m\u001b[0m\u001b[0m\n\u001b[1;32m   2994\u001b[0m                 \u001b[0;32mreturn\u001b[0m \u001b[0mself\u001b[0m\u001b[0;34m.\u001b[0m\u001b[0m_getitem_multilevel\u001b[0m\u001b[0;34m(\u001b[0m\u001b[0mkey\u001b[0m\u001b[0;34m)\u001b[0m\u001b[0;34m\u001b[0m\u001b[0;34m\u001b[0m\u001b[0m\n\u001b[0;32m-> 2995\u001b[0;31m             \u001b[0mindexer\u001b[0m \u001b[0;34m=\u001b[0m \u001b[0mself\u001b[0m\u001b[0;34m.\u001b[0m\u001b[0mcolumns\u001b[0m\u001b[0;34m.\u001b[0m\u001b[0mget_loc\u001b[0m\u001b[0;34m(\u001b[0m\u001b[0mkey\u001b[0m\u001b[0;34m)\u001b[0m\u001b[0;34m\u001b[0m\u001b[0;34m\u001b[0m\u001b[0m\n\u001b[0m\u001b[1;32m   2996\u001b[0m             \u001b[0;32mif\u001b[0m \u001b[0mis_integer\u001b[0m\u001b[0;34m(\u001b[0m\u001b[0mindexer\u001b[0m\u001b[0;34m)\u001b[0m\u001b[0;34m:\u001b[0m\u001b[0;34m\u001b[0m\u001b[0;34m\u001b[0m\u001b[0m\n\u001b[1;32m   2997\u001b[0m                 \u001b[0mindexer\u001b[0m \u001b[0;34m=\u001b[0m \u001b[0;34m[\u001b[0m\u001b[0mindexer\u001b[0m\u001b[0;34m]\u001b[0m\u001b[0;34m\u001b[0m\u001b[0;34m\u001b[0m\u001b[0m\n",
      "\u001b[0;32m/usr/local/lib/python3.7/site-packages/pandas/core/indexes/base.py\u001b[0m in \u001b[0;36mget_loc\u001b[0;34m(self, key, method, tolerance)\u001b[0m\n\u001b[1;32m   2897\u001b[0m                 \u001b[0;32mreturn\u001b[0m \u001b[0mself\u001b[0m\u001b[0;34m.\u001b[0m\u001b[0m_engine\u001b[0m\u001b[0;34m.\u001b[0m\u001b[0mget_loc\u001b[0m\u001b[0;34m(\u001b[0m\u001b[0mkey\u001b[0m\u001b[0;34m)\u001b[0m\u001b[0;34m\u001b[0m\u001b[0;34m\u001b[0m\u001b[0m\n\u001b[1;32m   2898\u001b[0m             \u001b[0;32mexcept\u001b[0m \u001b[0mKeyError\u001b[0m\u001b[0;34m:\u001b[0m\u001b[0;34m\u001b[0m\u001b[0;34m\u001b[0m\u001b[0m\n\u001b[0;32m-> 2899\u001b[0;31m                 \u001b[0;32mreturn\u001b[0m \u001b[0mself\u001b[0m\u001b[0;34m.\u001b[0m\u001b[0m_engine\u001b[0m\u001b[0;34m.\u001b[0m\u001b[0mget_loc\u001b[0m\u001b[0;34m(\u001b[0m\u001b[0mself\u001b[0m\u001b[0;34m.\u001b[0m\u001b[0m_maybe_cast_indexer\u001b[0m\u001b[0;34m(\u001b[0m\u001b[0mkey\u001b[0m\u001b[0;34m)\u001b[0m\u001b[0;34m)\u001b[0m\u001b[0;34m\u001b[0m\u001b[0;34m\u001b[0m\u001b[0m\n\u001b[0m\u001b[1;32m   2900\u001b[0m         \u001b[0mindexer\u001b[0m \u001b[0;34m=\u001b[0m \u001b[0mself\u001b[0m\u001b[0;34m.\u001b[0m\u001b[0mget_indexer\u001b[0m\u001b[0;34m(\u001b[0m\u001b[0;34m[\u001b[0m\u001b[0mkey\u001b[0m\u001b[0;34m]\u001b[0m\u001b[0;34m,\u001b[0m \u001b[0mmethod\u001b[0m\u001b[0;34m=\u001b[0m\u001b[0mmethod\u001b[0m\u001b[0;34m,\u001b[0m \u001b[0mtolerance\u001b[0m\u001b[0;34m=\u001b[0m\u001b[0mtolerance\u001b[0m\u001b[0;34m)\u001b[0m\u001b[0;34m\u001b[0m\u001b[0;34m\u001b[0m\u001b[0m\n\u001b[1;32m   2901\u001b[0m         \u001b[0;32mif\u001b[0m \u001b[0mindexer\u001b[0m\u001b[0;34m.\u001b[0m\u001b[0mndim\u001b[0m \u001b[0;34m>\u001b[0m \u001b[0;36m1\u001b[0m \u001b[0;32mor\u001b[0m \u001b[0mindexer\u001b[0m\u001b[0;34m.\u001b[0m\u001b[0msize\u001b[0m \u001b[0;34m>\u001b[0m \u001b[0;36m1\u001b[0m\u001b[0;34m:\u001b[0m\u001b[0;34m\u001b[0m\u001b[0;34m\u001b[0m\u001b[0m\n",
      "\u001b[0;32mpandas/_libs/index.pyx\u001b[0m in \u001b[0;36mpandas._libs.index.IndexEngine.get_loc\u001b[0;34m()\u001b[0m\n",
      "\u001b[0;32mpandas/_libs/index.pyx\u001b[0m in \u001b[0;36mpandas._libs.index.IndexEngine.get_loc\u001b[0;34m()\u001b[0m\n",
      "\u001b[0;32mpandas/_libs/hashtable_class_helper.pxi\u001b[0m in \u001b[0;36mpandas._libs.hashtable.PyObjectHashTable.get_item\u001b[0;34m()\u001b[0m\n",
      "\u001b[0;32mpandas/_libs/hashtable_class_helper.pxi\u001b[0m in \u001b[0;36mpandas._libs.hashtable.PyObjectHashTable.get_item\u001b[0;34m()\u001b[0m\n",
      "\u001b[0;31mKeyError\u001b[0m: 'name'"
     ]
    }
   ],
   "source": [
    "scavenger_df=files[(files['name'].str.contains('scavenger'))]"
   ]
  },
  {
   "cell_type": "code",
   "execution_count": null,
   "metadata": {},
   "outputs": [],
   "source": []
  }
 ],
 "metadata": {
  "kernelspec": {
   "display_name": "Python 3",
   "language": "python",
   "name": "python3"
  },
  "language_info": {
   "codemirror_mode": {
    "name": "ipython",
    "version": 3
   },
   "file_extension": ".py",
   "mimetype": "text/x-python",
   "name": "python",
   "nbconvert_exporter": "python",
   "pygments_lexer": "ipython3",
   "version": "3.7.4"
  },
  "varInspector": {
   "cols": {
    "lenName": 16,
    "lenType": 16,
    "lenVar": 40
   },
   "kernels_config": {
    "python": {
     "delete_cmd_postfix": "",
     "delete_cmd_prefix": "del ",
     "library": "var_list.py",
     "varRefreshCmd": "print(var_dic_list())"
    },
    "r": {
     "delete_cmd_postfix": ") ",
     "delete_cmd_prefix": "rm(",
     "library": "var_list.r",
     "varRefreshCmd": "cat(var_dic_list()) "
    }
   },
   "types_to_exclude": [
    "module",
    "function",
    "builtin_function_or_method",
    "instance",
    "_Feature"
   ],
   "window_display": false
  }
 },
 "nbformat": 4,
 "nbformat_minor": 2
}
